{
  "nbformat": 4,
  "nbformat_minor": 0,
  "metadata": {
    "colab": {
      "name": "pixibo.ipynb",
      "version": "0.3.2",
      "provenance": [],
      "collapsed_sections": []
    },
    "kernelspec": {
      "name": "python3",
      "display_name": "Python 3"
    }
  },
  "cells": [
    {
      "cell_type": "code",
      "metadata": {
        "id": "RNpe3jDnrNJv",
        "colab_type": "code",
        "colab": {}
      },
      "source": [
        "from google.colab import files\n",
        "uploaded = files.upload()"
      ],
      "execution_count": 0,
      "outputs": []
    },
    {
      "cell_type": "markdown",
      "metadata": {
        "id": "EBktr7qt_Wyf",
        "colab_type": "text"
      },
      "source": [
        "###1) Pixibo influenced purchases -A size recommendation was made and the product was purchased"
      ]
    },
    {
      "cell_type": "code",
      "metadata": {
        "id": "yoiNRbasq28H",
        "colab_type": "code",
        "colab": {}
      },
      "source": [
        "#reading data_science_exchanges_returns.csv renamed as pixibo1.xlsx\n",
        "import pandas as pd\n",
        "return_df = pd.read_excel('pixibo1.xlsx', 'Sheet1')\n",
        "return_df.columns = return_df.columns.str.strip().str.replace(' ', '_') #removing space from column names\n",
        "\n"
      ],
      "execution_count": 0,
      "outputs": []
    },
    {
      "cell_type": "code",
      "metadata": {
        "id": "AnT5TIJMeGB3",
        "colab_type": "code",
        "outputId": "e9f23926-ac9f-4626-c4c2-9b2a7c068c58",
        "colab": {
          "base_uri": "https://localhost:8080/",
          "height": 34
        }
      },
      "source": [
        "return_df.shape"
      ],
      "execution_count": 0,
      "outputs": [
        {
          "output_type": "execute_result",
          "data": {
            "text/plain": [
              "(91242, 8)"
            ]
          },
          "metadata": {
            "tags": []
          },
          "execution_count": 122
        }
      ]
    },
    {
      "cell_type": "code",
      "metadata": {
        "id": "cMeIoPrFJyZj",
        "colab_type": "code",
        "colab": {}
      },
      "source": [
        "#reading data_science_test_conversions.json\n",
        "df_conv = pd.read_json('data_science_test_conversions.json', lines = True)"
      ],
      "execution_count": 0,
      "outputs": []
    },
    {
      "cell_type": "code",
      "metadata": {
        "id": "GN1vQpNAKg6N",
        "colab_type": "code",
        "outputId": "91c6912b-4290-41cc-b63f-21c818104e62",
        "colab": {
          "base_uri": "https://localhost:8080/",
          "height": 204
        }
      },
      "source": [
        "df_conv.head()"
      ],
      "execution_count": 0,
      "outputs": [
        {
          "output_type": "execute_result",
          "data": {
            "text/html": [
              "<div>\n",
              "<style scoped>\n",
              "    .dataframe tbody tr th:only-of-type {\n",
              "        vertical-align: middle;\n",
              "    }\n",
              "\n",
              "    .dataframe tbody tr th {\n",
              "        vertical-align: top;\n",
              "    }\n",
              "\n",
              "    .dataframe thead th {\n",
              "        text-align: right;\n",
              "    }\n",
              "</style>\n",
              "<table border=\"1\" class=\"dataframe\">\n",
              "  <thead>\n",
              "    <tr style=\"text-align: right;\">\n",
              "      <th></th>\n",
              "      <th>_id</th>\n",
              "      <th>_index</th>\n",
              "      <th>_score</th>\n",
              "      <th>_source</th>\n",
              "      <th>_type</th>\n",
              "    </tr>\n",
              "  </thead>\n",
              "  <tbody>\n",
              "    <tr>\n",
              "      <th>0</th>\n",
              "      <td>8a8b6404-e312-4bef-98cd-df3637d09b2f</td>\n",
              "      <td>tracking_prod</td>\n",
              "      <td>7.577892</td>\n",
              "      <td>{'uid': 'unknown', 'amount': '1394', 'clientId...</td>\n",
              "      <td>conversion</td>\n",
              "    </tr>\n",
              "    <tr>\n",
              "      <th>1</th>\n",
              "      <td>a98d0ef4-bb5b-48d5-b01d-2cc9b2279a7a</td>\n",
              "      <td>tracking_prod</td>\n",
              "      <td>7.577892</td>\n",
              "      <td>{'uid': '0fc636a4-a03f-493d-8122-64f98c12e6df'...</td>\n",
              "      <td>conversion</td>\n",
              "    </tr>\n",
              "    <tr>\n",
              "      <th>2</th>\n",
              "      <td>553f06bf-d9a2-4aa7-9ff7-a2959b884994</td>\n",
              "      <td>tracking_prod</td>\n",
              "      <td>7.577892</td>\n",
              "      <td>{'uid': '3c3c50b0-99a2-494e-8228-b559eafccc02'...</td>\n",
              "      <td>conversion</td>\n",
              "    </tr>\n",
              "    <tr>\n",
              "      <th>3</th>\n",
              "      <td>420fc2c3-0ce4-4d21-ab88-cff69d4a3643</td>\n",
              "      <td>tracking_prod</td>\n",
              "      <td>7.577892</td>\n",
              "      <td>{'uid': 'unknown', 'amount': '1299', 'clientId...</td>\n",
              "      <td>conversion</td>\n",
              "    </tr>\n",
              "    <tr>\n",
              "      <th>4</th>\n",
              "      <td>44e993a5-c4f4-4cfc-8bd3-242e8b418893</td>\n",
              "      <td>tracking_prod</td>\n",
              "      <td>7.577892</td>\n",
              "      <td>{'uid': 'unknown', 'amount': '2091.56', 'clien...</td>\n",
              "      <td>conversion</td>\n",
              "    </tr>\n",
              "  </tbody>\n",
              "</table>\n",
              "</div>"
            ],
            "text/plain": [
              "                                    _id         _index    _score  \\\n",
              "0  8a8b6404-e312-4bef-98cd-df3637d09b2f  tracking_prod  7.577892   \n",
              "1  a98d0ef4-bb5b-48d5-b01d-2cc9b2279a7a  tracking_prod  7.577892   \n",
              "2  553f06bf-d9a2-4aa7-9ff7-a2959b884994  tracking_prod  7.577892   \n",
              "3  420fc2c3-0ce4-4d21-ab88-cff69d4a3643  tracking_prod  7.577892   \n",
              "4  44e993a5-c4f4-4cfc-8bd3-242e8b418893  tracking_prod  7.577892   \n",
              "\n",
              "                                             _source       _type  \n",
              "0  {'uid': 'unknown', 'amount': '1394', 'clientId...  conversion  \n",
              "1  {'uid': '0fc636a4-a03f-493d-8122-64f98c12e6df'...  conversion  \n",
              "2  {'uid': '3c3c50b0-99a2-494e-8228-b559eafccc02'...  conversion  \n",
              "3  {'uid': 'unknown', 'amount': '1299', 'clientId...  conversion  \n",
              "4  {'uid': 'unknown', 'amount': '2091.56', 'clien...  conversion  "
            ]
          },
          "metadata": {
            "tags": []
          },
          "execution_count": 7
        }
      ]
    },
    {
      "cell_type": "code",
      "metadata": {
        "id": "uQnnZarELSMs",
        "colab_type": "code",
        "outputId": "27db0f1c-67bd-4730-eea5-d5a493001d41",
        "colab": {
          "base_uri": "https://localhost:8080/",
          "height": 34
        }
      },
      "source": [
        "#fetching transaction details from data_science_test_conversions.json which are present in _source column\n",
        "details = pd.read_json((df_conv['_source']).to_json(), orient = 'index')\n",
        "details.head()\n",
        "details.shape"
      ],
      "execution_count": 0,
      "outputs": [
        {
          "output_type": "execute_result",
          "data": {
            "text/plain": [
              "(62482, 7)"
            ]
          },
          "metadata": {
            "tags": []
          },
          "execution_count": 8
        }
      ]
    },
    {
      "cell_type": "code",
      "metadata": {
        "id": "vWBgnS3mOKrl",
        "colab_type": "code",
        "outputId": "51b22a27-abb6-42a5-a91c-ef030da9922f",
        "colab": {
          "base_uri": "https://localhost:8080/",
          "height": 34
        }
      },
      "source": [
        "#filtering details for february month\n",
        "transaction = details[(details['timestamp'] >= '2019-02-01 00:00:00.000') & (details['timestamp'] < '2019-03-01 00:00:00.000')]\n",
        "transaction.shape"
      ],
      "execution_count": 0,
      "outputs": [
        {
          "output_type": "execute_result",
          "data": {
            "text/plain": [
              "(4705, 7)"
            ]
          },
          "metadata": {
            "tags": []
          },
          "execution_count": 9
        }
      ]
    },
    {
      "cell_type": "code",
      "metadata": {
        "id": "F-91nTlOQBBq",
        "colab_type": "code",
        "outputId": "38895957-5216-4162-e79b-9b963e50b3a7",
        "colab": {
          "base_uri": "https://localhost:8080/",
          "height": 204
        }
      },
      "source": [
        "transaction.head()"
      ],
      "execution_count": 0,
      "outputs": [
        {
          "output_type": "execute_result",
          "data": {
            "text/html": [
              "<div>\n",
              "<style scoped>\n",
              "    .dataframe tbody tr th:only-of-type {\n",
              "        vertical-align: middle;\n",
              "    }\n",
              "\n",
              "    .dataframe tbody tr th {\n",
              "        vertical-align: top;\n",
              "    }\n",
              "\n",
              "    .dataframe thead th {\n",
              "        text-align: right;\n",
              "    }\n",
              "</style>\n",
              "<table border=\"1\" class=\"dataframe\">\n",
              "  <thead>\n",
              "    <tr style=\"text-align: right;\">\n",
              "      <th></th>\n",
              "      <th>amount</th>\n",
              "      <th>clientId</th>\n",
              "      <th>currency</th>\n",
              "      <th>products</th>\n",
              "      <th>timestamp</th>\n",
              "      <th>transaction</th>\n",
              "      <th>uid</th>\n",
              "    </tr>\n",
              "  </thead>\n",
              "  <tbody>\n",
              "    <tr>\n",
              "      <th>5185</th>\n",
              "      <td>1143.12</td>\n",
              "      <td>ubu8zhxrh8hg</td>\n",
              "      <td>PHP</td>\n",
              "      <td>[{'quantity': 1, 'size': 'International S', 'p...</td>\n",
              "      <td>2019-02-07 08:29:55.536</td>\n",
              "      <td>215125962</td>\n",
              "      <td>unknown</td>\n",
              "    </tr>\n",
              "    <tr>\n",
              "      <th>5186</th>\n",
              "      <td>1150.00</td>\n",
              "      <td>ubu8zhxrh8hg</td>\n",
              "      <td>PHP</td>\n",
              "      <td>[{'quantity': 1, 'size': 'UK 10', 'price': '11...</td>\n",
              "      <td>2019-02-07 08:49:49.141</td>\n",
              "      <td>215325962</td>\n",
              "      <td>f6fb8346-1b77-4e7f-a631-cfb4b571ceb6</td>\n",
              "    </tr>\n",
              "    <tr>\n",
              "      <th>5187</th>\n",
              "      <td>1996.00</td>\n",
              "      <td>ubu8zhxrh8hg</td>\n",
              "      <td>PHP</td>\n",
              "      <td>[{'quantity': 2, 'size': 'International XXXL',...</td>\n",
              "      <td>2019-02-07 10:04:50.854</td>\n",
              "      <td>279965962</td>\n",
              "      <td>c5c23898-6998-4ae3-b4e9-9f4477ecd6bf</td>\n",
              "    </tr>\n",
              "    <tr>\n",
              "      <th>5188</th>\n",
              "      <td>3650.00</td>\n",
              "      <td>ubu8zhxrh8hg</td>\n",
              "      <td>PHP</td>\n",
              "      <td>[{'quantity': 1, 'size': 'International One Si...</td>\n",
              "      <td>2019-02-07 17:41:34.990</td>\n",
              "      <td>267385962</td>\n",
              "      <td>a695c21f-e7ea-4a80-8719-a658a9af045e</td>\n",
              "    </tr>\n",
              "    <tr>\n",
              "      <th>5189</th>\n",
              "      <td>1750.00</td>\n",
              "      <td>ubu8zhxrh8hg</td>\n",
              "      <td>PHP</td>\n",
              "      <td>[{'quantity': 1, 'size': 'International One Si...</td>\n",
              "      <td>2019-02-08 01:31:22.243</td>\n",
              "      <td>273455962</td>\n",
              "      <td>unknown</td>\n",
              "    </tr>\n",
              "  </tbody>\n",
              "</table>\n",
              "</div>"
            ],
            "text/plain": [
              "       amount      clientId currency  \\\n",
              "5185  1143.12  ubu8zhxrh8hg      PHP   \n",
              "5186  1150.00  ubu8zhxrh8hg      PHP   \n",
              "5187  1996.00  ubu8zhxrh8hg      PHP   \n",
              "5188  3650.00  ubu8zhxrh8hg      PHP   \n",
              "5189  1750.00  ubu8zhxrh8hg      PHP   \n",
              "\n",
              "                                               products  \\\n",
              "5185  [{'quantity': 1, 'size': 'International S', 'p...   \n",
              "5186  [{'quantity': 1, 'size': 'UK 10', 'price': '11...   \n",
              "5187  [{'quantity': 2, 'size': 'International XXXL',...   \n",
              "5188  [{'quantity': 1, 'size': 'International One Si...   \n",
              "5189  [{'quantity': 1, 'size': 'International One Si...   \n",
              "\n",
              "                   timestamp transaction                                   uid  \n",
              "5185 2019-02-07 08:29:55.536   215125962                               unknown  \n",
              "5186 2019-02-07 08:49:49.141   215325962  f6fb8346-1b77-4e7f-a631-cfb4b571ceb6  \n",
              "5187 2019-02-07 10:04:50.854   279965962  c5c23898-6998-4ae3-b4e9-9f4477ecd6bf  \n",
              "5188 2019-02-07 17:41:34.990   267385962  a695c21f-e7ea-4a80-8719-a658a9af045e  \n",
              "5189 2019-02-08 01:31:22.243   273455962                               unknown  "
            ]
          },
          "metadata": {
            "tags": []
          },
          "execution_count": 10
        }
      ]
    },
    {
      "cell_type": "code",
      "metadata": {
        "id": "XXYpF_u6-KH0",
        "colab_type": "code",
        "colab": {}
      },
      "source": [
        "# reading data_science_test_events.json\n",
        "import json\n",
        "import urlopen\n",
        "import urllib.request\n",
        "import xlsxwriter\n",
        "import pandas as pd\n",
        "user, product, recommendation, timestamp = ([] for i in range(4))\n",
        "f = urllib.request.urlopen('https://s3-us-west-2.amazonaws.com/miscka/datascience/data_science_test_events.json')\n",
        "for line in f:\n",
        "  data = json.loads(line)\n",
        "  if (data['_source']['timestamp'] >= '2019-02-01T00:00:00.000Z' and data['_source']['timestamp'] < '2019-03-01T00:00:00.000Z'):\n",
        "      if (data['_source']['eventType'] == 'size' and data['_source']['statusCode'] == 200):\n",
        "        uid = data['_source']['uid']\n",
        "        user.append(uid)\n",
        "        pid = data['_source']['skuId']\n",
        "        product.append(pid)  \n",
        "        response = (data['_source']['response']['fys'])\n",
        "        recommendation.append(response)\n",
        "        time = data['_source']['timestamp']\n",
        "        timestamp.append(time)\n",
        "events_df = pd.DataFrame({'user':user, 'product':product, 'recommended_size': recommendation, 'time': timestamp})\n",
        "\n"
      ],
      "execution_count": 0,
      "outputs": []
    },
    {
      "cell_type": "code",
      "metadata": {
        "id": "8n9k7kW1oRtF",
        "colab_type": "code",
        "outputId": "19662a78-1571-4649-d43c-b7efca4a0bf3",
        "colab": {
          "base_uri": "https://localhost:8080/",
          "height": 204
        }
      },
      "source": [
        "#product column has products fetched from data_science_test_events.json for eventType = size\n",
        "events_df.head()"
      ],
      "execution_count": 0,
      "outputs": [
        {
          "output_type": "execute_result",
          "data": {
            "text/html": [
              "<div>\n",
              "<style scoped>\n",
              "    .dataframe tbody tr th:only-of-type {\n",
              "        vertical-align: middle;\n",
              "    }\n",
              "\n",
              "    .dataframe tbody tr th {\n",
              "        vertical-align: top;\n",
              "    }\n",
              "\n",
              "    .dataframe thead th {\n",
              "        text-align: right;\n",
              "    }\n",
              "</style>\n",
              "<table border=\"1\" class=\"dataframe\">\n",
              "  <thead>\n",
              "    <tr style=\"text-align: right;\">\n",
              "      <th></th>\n",
              "      <th>user</th>\n",
              "      <th>product</th>\n",
              "      <th>recommended_size</th>\n",
              "      <th>time</th>\n",
              "    </tr>\n",
              "  </thead>\n",
              "  <tbody>\n",
              "    <tr>\n",
              "      <th>0</th>\n",
              "      <td>31e4db3d-6377-4d00-b2a7-b8243572db0e</td>\n",
              "      <td>cb29daa678e645gs</td>\n",
              "      <td>[{'size': 'INT L', 'confidence': 2, 'bust': 3,...</td>\n",
              "      <td>2019-02-01T02:00:37.331Z</td>\n",
              "    </tr>\n",
              "    <tr>\n",
              "      <th>1</th>\n",
              "      <td>e45dba3f-2ea6-4ad7-84eb-3b7d625d2447</td>\n",
              "      <td>d993caa823c57cgs</td>\n",
              "      <td>[{'size': 'INT S', 'confidence': 3, 'bust': 5,...</td>\n",
              "      <td>2019-02-01T03:31:48.672Z</td>\n",
              "    </tr>\n",
              "    <tr>\n",
              "      <th>2</th>\n",
              "      <td>4e7edc56-1b63-488b-a9c2-8628daab1e32</td>\n",
              "      <td>56bafaa4ca5e40gs</td>\n",
              "      <td>[{'size': 'INT XL', 'confidence': 1, 'bust': 5...</td>\n",
              "      <td>2019-02-01T04:55:06.757Z</td>\n",
              "    </tr>\n",
              "    <tr>\n",
              "      <th>3</th>\n",
              "      <td>1f41fc4f-85d3-459b-b4f2-90bcf60a9c12</td>\n",
              "      <td>905e3aadbb0671gs</td>\n",
              "      <td>[{'size': 'INT XS', 'confidence': 2, 'bust': 2...</td>\n",
              "      <td>2019-02-01T07:18:27.504Z</td>\n",
              "    </tr>\n",
              "    <tr>\n",
              "      <th>4</th>\n",
              "      <td>62658451-3091-4402-b663-6da4bf9291da</td>\n",
              "      <td>348a5aac44fd0ags</td>\n",
              "      <td>[{'size': 'INT M', 'confidence': 3, 'bust': 5,...</td>\n",
              "      <td>2019-02-01T07:56:24.721Z</td>\n",
              "    </tr>\n",
              "  </tbody>\n",
              "</table>\n",
              "</div>"
            ],
            "text/plain": [
              "                                   user           product  \\\n",
              "0  31e4db3d-6377-4d00-b2a7-b8243572db0e  cb29daa678e645gs   \n",
              "1  e45dba3f-2ea6-4ad7-84eb-3b7d625d2447  d993caa823c57cgs   \n",
              "2  4e7edc56-1b63-488b-a9c2-8628daab1e32  56bafaa4ca5e40gs   \n",
              "3  1f41fc4f-85d3-459b-b4f2-90bcf60a9c12  905e3aadbb0671gs   \n",
              "4  62658451-3091-4402-b663-6da4bf9291da  348a5aac44fd0ags   \n",
              "\n",
              "                                    recommended_size                      time  \n",
              "0  [{'size': 'INT L', 'confidence': 2, 'bust': 3,...  2019-02-01T02:00:37.331Z  \n",
              "1  [{'size': 'INT S', 'confidence': 3, 'bust': 5,...  2019-02-01T03:31:48.672Z  \n",
              "2  [{'size': 'INT XL', 'confidence': 1, 'bust': 5...  2019-02-01T04:55:06.757Z  \n",
              "3  [{'size': 'INT XS', 'confidence': 2, 'bust': 2...  2019-02-01T07:18:27.504Z  \n",
              "4  [{'size': 'INT M', 'confidence': 3, 'bust': 5,...  2019-02-01T07:56:24.721Z  "
            ]
          },
          "metadata": {
            "tags": []
          },
          "execution_count": 16
        }
      ]
    },
    {
      "cell_type": "code",
      "metadata": {
        "id": "NiaC8aJA5gE3",
        "colab_type": "code",
        "colab": {}
      },
      "source": [
        "#renaming user column to uid so that both transaction and events_df dataframes can be merged on uid column\n",
        "events_df.columns = ['uid', 'product', 'recommended_size', 'time']"
      ],
      "execution_count": 0,
      "outputs": []
    },
    {
      "cell_type": "code",
      "metadata": {
        "id": "pN7MZeYC6Drr",
        "colab_type": "code",
        "outputId": "b367d6b9-c87e-411b-c422-4e29fddc0a5b",
        "colab": {
          "base_uri": "https://localhost:8080/",
          "height": 204
        }
      },
      "source": [
        "events_df.head()"
      ],
      "execution_count": 0,
      "outputs": [
        {
          "output_type": "execute_result",
          "data": {
            "text/html": [
              "<div>\n",
              "<style scoped>\n",
              "    .dataframe tbody tr th:only-of-type {\n",
              "        vertical-align: middle;\n",
              "    }\n",
              "\n",
              "    .dataframe tbody tr th {\n",
              "        vertical-align: top;\n",
              "    }\n",
              "\n",
              "    .dataframe thead th {\n",
              "        text-align: right;\n",
              "    }\n",
              "</style>\n",
              "<table border=\"1\" class=\"dataframe\">\n",
              "  <thead>\n",
              "    <tr style=\"text-align: right;\">\n",
              "      <th></th>\n",
              "      <th>uid</th>\n",
              "      <th>product</th>\n",
              "      <th>recommended_size</th>\n",
              "      <th>time</th>\n",
              "    </tr>\n",
              "  </thead>\n",
              "  <tbody>\n",
              "    <tr>\n",
              "      <th>0</th>\n",
              "      <td>31e4db3d-6377-4d00-b2a7-b8243572db0e</td>\n",
              "      <td>cb29daa678e645gs</td>\n",
              "      <td>[{'size': 'INT L', 'confidence': 2, 'bust': 3,...</td>\n",
              "      <td>2019-02-01T02:00:37.331Z</td>\n",
              "    </tr>\n",
              "    <tr>\n",
              "      <th>1</th>\n",
              "      <td>e45dba3f-2ea6-4ad7-84eb-3b7d625d2447</td>\n",
              "      <td>d993caa823c57cgs</td>\n",
              "      <td>[{'size': 'INT S', 'confidence': 3, 'bust': 5,...</td>\n",
              "      <td>2019-02-01T03:31:48.672Z</td>\n",
              "    </tr>\n",
              "    <tr>\n",
              "      <th>2</th>\n",
              "      <td>4e7edc56-1b63-488b-a9c2-8628daab1e32</td>\n",
              "      <td>56bafaa4ca5e40gs</td>\n",
              "      <td>[{'size': 'INT XL', 'confidence': 1, 'bust': 5...</td>\n",
              "      <td>2019-02-01T04:55:06.757Z</td>\n",
              "    </tr>\n",
              "    <tr>\n",
              "      <th>3</th>\n",
              "      <td>1f41fc4f-85d3-459b-b4f2-90bcf60a9c12</td>\n",
              "      <td>905e3aadbb0671gs</td>\n",
              "      <td>[{'size': 'INT XS', 'confidence': 2, 'bust': 2...</td>\n",
              "      <td>2019-02-01T07:18:27.504Z</td>\n",
              "    </tr>\n",
              "    <tr>\n",
              "      <th>4</th>\n",
              "      <td>62658451-3091-4402-b663-6da4bf9291da</td>\n",
              "      <td>348a5aac44fd0ags</td>\n",
              "      <td>[{'size': 'INT M', 'confidence': 3, 'bust': 5,...</td>\n",
              "      <td>2019-02-01T07:56:24.721Z</td>\n",
              "    </tr>\n",
              "  </tbody>\n",
              "</table>\n",
              "</div>"
            ],
            "text/plain": [
              "                                    uid           product  \\\n",
              "0  31e4db3d-6377-4d00-b2a7-b8243572db0e  cb29daa678e645gs   \n",
              "1  e45dba3f-2ea6-4ad7-84eb-3b7d625d2447  d993caa823c57cgs   \n",
              "2  4e7edc56-1b63-488b-a9c2-8628daab1e32  56bafaa4ca5e40gs   \n",
              "3  1f41fc4f-85d3-459b-b4f2-90bcf60a9c12  905e3aadbb0671gs   \n",
              "4  62658451-3091-4402-b663-6da4bf9291da  348a5aac44fd0ags   \n",
              "\n",
              "                                    recommended_size                      time  \n",
              "0  [{'size': 'INT L', 'confidence': 2, 'bust': 3,...  2019-02-01T02:00:37.331Z  \n",
              "1  [{'size': 'INT S', 'confidence': 3, 'bust': 5,...  2019-02-01T03:31:48.672Z  \n",
              "2  [{'size': 'INT XL', 'confidence': 1, 'bust': 5...  2019-02-01T04:55:06.757Z  \n",
              "3  [{'size': 'INT XS', 'confidence': 2, 'bust': 2...  2019-02-01T07:18:27.504Z  \n",
              "4  [{'size': 'INT M', 'confidence': 3, 'bust': 5,...  2019-02-01T07:56:24.721Z  "
            ]
          },
          "metadata": {
            "tags": []
          },
          "execution_count": 18
        }
      ]
    },
    {
      "cell_type": "code",
      "metadata": {
        "id": "s5CxLeXF4WFR",
        "colab_type": "code",
        "colab": {}
      },
      "source": [
        "#merging events and transactions dataframes on userid\n",
        "mergeddf = pd.merge(transaction, events_df, on=['uid'], how='inner')\n"
      ],
      "execution_count": 0,
      "outputs": []
    },
    {
      "cell_type": "code",
      "metadata": {
        "id": "0_WJHpUR7sTI",
        "colab_type": "code",
        "colab": {}
      },
      "source": [
        "#dropping columns from the merged dataframe\n",
        "mergeddf.drop(['amount', 'clientId', 'currency'], axis = 1, inplace = True)"
      ],
      "execution_count": 0,
      "outputs": []
    },
    {
      "cell_type": "code",
      "metadata": {
        "id": "Ge5-x-3tWC0o",
        "colab_type": "code",
        "outputId": "e33ff784-4a35-4cdc-e1e0-572dfaa389a0",
        "colab": {
          "base_uri": "https://localhost:8080/",
          "height": 289
        }
      },
      "source": [
        "mergeddf.head()"
      ],
      "execution_count": 0,
      "outputs": [
        {
          "output_type": "execute_result",
          "data": {
            "text/html": [
              "<div>\n",
              "<style scoped>\n",
              "    .dataframe tbody tr th:only-of-type {\n",
              "        vertical-align: middle;\n",
              "    }\n",
              "\n",
              "    .dataframe tbody tr th {\n",
              "        vertical-align: top;\n",
              "    }\n",
              "\n",
              "    .dataframe thead th {\n",
              "        text-align: right;\n",
              "    }\n",
              "</style>\n",
              "<table border=\"1\" class=\"dataframe\">\n",
              "  <thead>\n",
              "    <tr style=\"text-align: right;\">\n",
              "      <th></th>\n",
              "      <th>products</th>\n",
              "      <th>timestamp</th>\n",
              "      <th>transaction</th>\n",
              "      <th>uid</th>\n",
              "      <th>product</th>\n",
              "      <th>recommended_size</th>\n",
              "      <th>time</th>\n",
              "    </tr>\n",
              "  </thead>\n",
              "  <tbody>\n",
              "    <tr>\n",
              "      <th>0</th>\n",
              "      <td>[{'quantity': 1, 'size': 'US 9', 'price': '180...</td>\n",
              "      <td>2019-02-07 10:34:59.529</td>\n",
              "      <td>283865962</td>\n",
              "      <td>9ada6412-1878-4e6b-8d8d-2f5da37d4e51</td>\n",
              "      <td>64730aa75436eegs</td>\n",
              "      <td>[{'size': 'INT S', 'confidence': 4, 'bust': 2,...</td>\n",
              "      <td>2019-02-15T04:11:18.908Z</td>\n",
              "    </tr>\n",
              "    <tr>\n",
              "      <th>1</th>\n",
              "      <td>[{'quantity': 1, 'size': 'US 9', 'price': '292...</td>\n",
              "      <td>2019-02-04 07:04:04.817</td>\n",
              "      <td>294479962</td>\n",
              "      <td>9ada6412-1878-4e6b-8d8d-2f5da37d4e51</td>\n",
              "      <td>64730aa75436eegs</td>\n",
              "      <td>[{'size': 'INT S', 'confidence': 4, 'bust': 2,...</td>\n",
              "      <td>2019-02-15T04:11:18.908Z</td>\n",
              "    </tr>\n",
              "    <tr>\n",
              "      <th>2</th>\n",
              "      <td>[{'quantity': 1, 'size': 'Waist Size 30 in', '...</td>\n",
              "      <td>2019-02-09 10:00:16.909</td>\n",
              "      <td>284431962</td>\n",
              "      <td>b00d784b-99d8-462c-8456-53e549c8ad93</td>\n",
              "      <td>ad2c0aa344eeafgs</td>\n",
              "      <td>[{'size': 'UK 30S', 'confidence': 3, 'bust': 0...</td>\n",
              "      <td>2019-02-09T09:39:00.238Z</td>\n",
              "    </tr>\n",
              "    <tr>\n",
              "      <th>3</th>\n",
              "      <td>[{'quantity': 1, 'size': 'International S', 'p...</td>\n",
              "      <td>2019-02-01 02:29:41.281</td>\n",
              "      <td>236742962</td>\n",
              "      <td>3528be91-d6a2-4ec6-b26d-076dcc8ee15e</td>\n",
              "      <td>a00f7aa5e23e13gs</td>\n",
              "      <td>[{'size': 'INT S', 'confidence': 4, 'bust': 0,...</td>\n",
              "      <td>2019-02-01T02:22:00.260Z</td>\n",
              "    </tr>\n",
              "    <tr>\n",
              "      <th>4</th>\n",
              "      <td>[{'quantity': 1, 'size': 'International M', 'p...</td>\n",
              "      <td>2019-02-01 06:29:45.591</td>\n",
              "      <td>296962962</td>\n",
              "      <td>277cc0f6-a9b6-45f0-aa41-69509407322e</td>\n",
              "      <td>1076caa8f82abegs</td>\n",
              "      <td>[{'size': 'INT S', 'confidence': 2, 'bust': 1,...</td>\n",
              "      <td>2019-02-20T06:22:17.467Z</td>\n",
              "    </tr>\n",
              "  </tbody>\n",
              "</table>\n",
              "</div>"
            ],
            "text/plain": [
              "                                            products               timestamp  \\\n",
              "0  [{'quantity': 1, 'size': 'US 9', 'price': '180... 2019-02-07 10:34:59.529   \n",
              "1  [{'quantity': 1, 'size': 'US 9', 'price': '292... 2019-02-04 07:04:04.817   \n",
              "2  [{'quantity': 1, 'size': 'Waist Size 30 in', '... 2019-02-09 10:00:16.909   \n",
              "3  [{'quantity': 1, 'size': 'International S', 'p... 2019-02-01 02:29:41.281   \n",
              "4  [{'quantity': 1, 'size': 'International M', 'p... 2019-02-01 06:29:45.591   \n",
              "\n",
              "  transaction                                   uid           product  \\\n",
              "0   283865962  9ada6412-1878-4e6b-8d8d-2f5da37d4e51  64730aa75436eegs   \n",
              "1   294479962  9ada6412-1878-4e6b-8d8d-2f5da37d4e51  64730aa75436eegs   \n",
              "2   284431962  b00d784b-99d8-462c-8456-53e549c8ad93  ad2c0aa344eeafgs   \n",
              "3   236742962  3528be91-d6a2-4ec6-b26d-076dcc8ee15e  a00f7aa5e23e13gs   \n",
              "4   296962962  277cc0f6-a9b6-45f0-aa41-69509407322e  1076caa8f82abegs   \n",
              "\n",
              "                                    recommended_size                      time  \n",
              "0  [{'size': 'INT S', 'confidence': 4, 'bust': 2,...  2019-02-15T04:11:18.908Z  \n",
              "1  [{'size': 'INT S', 'confidence': 4, 'bust': 2,...  2019-02-15T04:11:18.908Z  \n",
              "2  [{'size': 'UK 30S', 'confidence': 3, 'bust': 0...  2019-02-09T09:39:00.238Z  \n",
              "3  [{'size': 'INT S', 'confidence': 4, 'bust': 0,...  2019-02-01T02:22:00.260Z  \n",
              "4  [{'size': 'INT S', 'confidence': 2, 'bust': 1,...  2019-02-20T06:22:17.467Z  "
            ]
          },
          "metadata": {
            "tags": []
          },
          "execution_count": 229
        }
      ]
    },
    {
      "cell_type": "code",
      "metadata": {
        "id": "zFBZznMm91Mn",
        "colab_type": "code",
        "colab": {}
      },
      "source": [
        "writer = pd.ExcelWriter('merged.xlsx',engine='xlsxwriter',options={'strings_to_urls': False})\n",
        "mergeddf.to_excel(writer,'Sheet1')\n",
        "writer.save()"
      ],
      "execution_count": 0,
      "outputs": []
    },
    {
      "cell_type": "code",
      "metadata": {
        "id": "FXp4MQ_pLaRE",
        "colab_type": "code",
        "colab": {}
      },
      "source": [
        "#fetching product ids from products column in mergeddf\n",
        "list = []\n",
        "for d in mergeddf.products:\n",
        "  if(len(d) > 1):\n",
        "    products = []\n",
        "    [products.append(x.get('sku')) for x in d]\n",
        "    list.append(products)\n",
        "  else:\n",
        "    [list.append(x.get('sku')) for x in d]\n",
        "print (list)"
      ],
      "execution_count": 0,
      "outputs": []
    },
    {
      "cell_type": "code",
      "metadata": {
        "id": "OldfE8xEPacP",
        "colab_type": "code",
        "colab": {}
      },
      "source": [
        "#adding new column to mergeddf\n",
        "# trans_productid contains the product ids exracted from products column \n",
        "mergeddf['trans_productid'] = list"
      ],
      "execution_count": 0,
      "outputs": []
    },
    {
      "cell_type": "code",
      "metadata": {
        "id": "7KVI5OuQPh4B",
        "colab_type": "code",
        "outputId": "981e3ac8-8ea2-4804-881e-0c217b7ccd5c",
        "colab": {
          "base_uri": "https://localhost:8080/",
          "height": 374
        }
      },
      "source": [
        "mergeddf.head()\n"
      ],
      "execution_count": 0,
      "outputs": [
        {
          "output_type": "execute_result",
          "data": {
            "text/html": [
              "<div>\n",
              "<style scoped>\n",
              "    .dataframe tbody tr th:only-of-type {\n",
              "        vertical-align: middle;\n",
              "    }\n",
              "\n",
              "    .dataframe tbody tr th {\n",
              "        vertical-align: top;\n",
              "    }\n",
              "\n",
              "    .dataframe thead th {\n",
              "        text-align: right;\n",
              "    }\n",
              "</style>\n",
              "<table border=\"1\" class=\"dataframe\">\n",
              "  <thead>\n",
              "    <tr style=\"text-align: right;\">\n",
              "      <th></th>\n",
              "      <th>products</th>\n",
              "      <th>timestamp</th>\n",
              "      <th>transaction</th>\n",
              "      <th>uid</th>\n",
              "      <th>product</th>\n",
              "      <th>recommended_size</th>\n",
              "      <th>time</th>\n",
              "      <th>trans_productid</th>\n",
              "    </tr>\n",
              "  </thead>\n",
              "  <tbody>\n",
              "    <tr>\n",
              "      <th>0</th>\n",
              "      <td>[{'quantity': 1, 'size': 'US 9', 'price': '180...</td>\n",
              "      <td>2019-02-07 10:34:59.529</td>\n",
              "      <td>283865962</td>\n",
              "      <td>9ada6412-1878-4e6b-8d8d-2f5da37d4e51</td>\n",
              "      <td>64730aa75436eegs</td>\n",
              "      <td>[{'size': 'INT S', 'confidence': 4, 'bust': 2,...</td>\n",
              "      <td>2019-02-15T04:11:18.908Z</td>\n",
              "      <td>A7902SH3077F68GS</td>\n",
              "    </tr>\n",
              "    <tr>\n",
              "      <th>1</th>\n",
              "      <td>[{'quantity': 1, 'size': 'US 9', 'price': '292...</td>\n",
              "      <td>2019-02-04 07:04:04.817</td>\n",
              "      <td>294479962</td>\n",
              "      <td>9ada6412-1878-4e6b-8d8d-2f5da37d4e51</td>\n",
              "      <td>64730aa75436eegs</td>\n",
              "      <td>[{'size': 'INT S', 'confidence': 4, 'bust': 2,...</td>\n",
              "      <td>2019-02-15T04:11:18.908Z</td>\n",
              "      <td>68312SHE6BC64BGS</td>\n",
              "    </tr>\n",
              "    <tr>\n",
              "      <th>2</th>\n",
              "      <td>[{'quantity': 1, 'size': 'Waist Size 30 in', '...</td>\n",
              "      <td>2019-02-09 10:00:16.909</td>\n",
              "      <td>284431962</td>\n",
              "      <td>b00d784b-99d8-462c-8456-53e549c8ad93</td>\n",
              "      <td>ad2c0aa344eeafgs</td>\n",
              "      <td>[{'size': 'UK 30S', 'confidence': 3, 'bust': 0...</td>\n",
              "      <td>2019-02-09T09:39:00.238Z</td>\n",
              "      <td>[64D8CAA1B69D83GS, 769ECAADC6901AGS, B08C3AAFC...</td>\n",
              "    </tr>\n",
              "    <tr>\n",
              "      <th>3</th>\n",
              "      <td>[{'quantity': 1, 'size': 'International S', 'p...</td>\n",
              "      <td>2019-02-01 02:29:41.281</td>\n",
              "      <td>236742962</td>\n",
              "      <td>3528be91-d6a2-4ec6-b26d-076dcc8ee15e</td>\n",
              "      <td>a00f7aa5e23e13gs</td>\n",
              "      <td>[{'size': 'INT S', 'confidence': 4, 'bust': 0,...</td>\n",
              "      <td>2019-02-01T02:22:00.260Z</td>\n",
              "      <td>[994DBAA2817BC8GS, A00F7AA5E23E13GS, 61686AAA4...</td>\n",
              "    </tr>\n",
              "    <tr>\n",
              "      <th>4</th>\n",
              "      <td>[{'quantity': 1, 'size': 'International M', 'p...</td>\n",
              "      <td>2019-02-01 06:29:45.591</td>\n",
              "      <td>296962962</td>\n",
              "      <td>277cc0f6-a9b6-45f0-aa41-69509407322e</td>\n",
              "      <td>1076caa8f82abegs</td>\n",
              "      <td>[{'size': 'INT S', 'confidence': 2, 'bust': 1,...</td>\n",
              "      <td>2019-02-20T06:22:17.467Z</td>\n",
              "      <td>[1EE8BAA28432A4GS, D254AAAB83182CGS]</td>\n",
              "    </tr>\n",
              "  </tbody>\n",
              "</table>\n",
              "</div>"
            ],
            "text/plain": [
              "                                            products               timestamp  \\\n",
              "0  [{'quantity': 1, 'size': 'US 9', 'price': '180... 2019-02-07 10:34:59.529   \n",
              "1  [{'quantity': 1, 'size': 'US 9', 'price': '292... 2019-02-04 07:04:04.817   \n",
              "2  [{'quantity': 1, 'size': 'Waist Size 30 in', '... 2019-02-09 10:00:16.909   \n",
              "3  [{'quantity': 1, 'size': 'International S', 'p... 2019-02-01 02:29:41.281   \n",
              "4  [{'quantity': 1, 'size': 'International M', 'p... 2019-02-01 06:29:45.591   \n",
              "\n",
              "  transaction                                   uid           product  \\\n",
              "0   283865962  9ada6412-1878-4e6b-8d8d-2f5da37d4e51  64730aa75436eegs   \n",
              "1   294479962  9ada6412-1878-4e6b-8d8d-2f5da37d4e51  64730aa75436eegs   \n",
              "2   284431962  b00d784b-99d8-462c-8456-53e549c8ad93  ad2c0aa344eeafgs   \n",
              "3   236742962  3528be91-d6a2-4ec6-b26d-076dcc8ee15e  a00f7aa5e23e13gs   \n",
              "4   296962962  277cc0f6-a9b6-45f0-aa41-69509407322e  1076caa8f82abegs   \n",
              "\n",
              "                                    recommended_size  \\\n",
              "0  [{'size': 'INT S', 'confidence': 4, 'bust': 2,...   \n",
              "1  [{'size': 'INT S', 'confidence': 4, 'bust': 2,...   \n",
              "2  [{'size': 'UK 30S', 'confidence': 3, 'bust': 0...   \n",
              "3  [{'size': 'INT S', 'confidence': 4, 'bust': 0,...   \n",
              "4  [{'size': 'INT S', 'confidence': 2, 'bust': 1,...   \n",
              "\n",
              "                       time                                    trans_productid  \n",
              "0  2019-02-15T04:11:18.908Z                                   A7902SH3077F68GS  \n",
              "1  2019-02-15T04:11:18.908Z                                   68312SHE6BC64BGS  \n",
              "2  2019-02-09T09:39:00.238Z  [64D8CAA1B69D83GS, 769ECAADC6901AGS, B08C3AAFC...  \n",
              "3  2019-02-01T02:22:00.260Z  [994DBAA2817BC8GS, A00F7AA5E23E13GS, 61686AAA4...  \n",
              "4  2019-02-20T06:22:17.467Z               [1EE8BAA28432A4GS, D254AAAB83182CGS]  "
            ]
          },
          "metadata": {
            "tags": []
          },
          "execution_count": 232
        }
      ]
    },
    {
      "cell_type": "code",
      "metadata": {
        "id": "msOJkbitY-w5",
        "colab_type": "code",
        "outputId": "402f108a-3091-4c87-d42e-6a26d38b5e36",
        "colab": {
          "base_uri": "https://localhost:8080/",
          "height": 34
        }
      },
      "source": [
        "mergeddf.shape"
      ],
      "execution_count": 0,
      "outputs": [
        {
          "output_type": "execute_result",
          "data": {
            "text/plain": [
              "(11963, 8)"
            ]
          },
          "metadata": {
            "tags": []
          },
          "execution_count": 233
        }
      ]
    },
    {
      "cell_type": "code",
      "metadata": {
        "id": "BSrvuDpfJ8d0",
        "colab_type": "code",
        "colab": {}
      },
      "source": [
        "mergeddf['product'] = mergeddf['product'].str.upper()"
      ],
      "execution_count": 0,
      "outputs": []
    },
    {
      "cell_type": "code",
      "metadata": {
        "id": "XiDM8nPXfjDR",
        "colab_type": "code",
        "colab": {}
      },
      "source": [
        "#copying rows to new dataframe in which product id is in trans_productid\n",
        "new_df = pd.DataFrame(columns=mergeddf.columns)\n",
        "for i in mergeddf.index:\n",
        "  if (mergeddf['product'][i] in mergeddf['trans_productid'][i]):\n",
        "    new_df = new_df.append(mergeddf.loc[i], ignore_index = True)"
      ],
      "execution_count": 0,
      "outputs": []
    },
    {
      "cell_type": "code",
      "metadata": {
        "id": "04QARwxz3dS1",
        "colab_type": "code",
        "outputId": "fa638e15-1bf5-4985-fd5e-a6a027483b4c",
        "colab": {
          "base_uri": "https://localhost:8080/",
          "height": 4009
        }
      },
      "source": [
        "new_df"
      ],
      "execution_count": 0,
      "outputs": [
        {
          "output_type": "execute_result",
          "data": {
            "text/html": [
              "<div>\n",
              "<style scoped>\n",
              "    .dataframe tbody tr th:only-of-type {\n",
              "        vertical-align: middle;\n",
              "    }\n",
              "\n",
              "    .dataframe tbody tr th {\n",
              "        vertical-align: top;\n",
              "    }\n",
              "\n",
              "    .dataframe thead th {\n",
              "        text-align: right;\n",
              "    }\n",
              "</style>\n",
              "<table border=\"1\" class=\"dataframe\">\n",
              "  <thead>\n",
              "    <tr style=\"text-align: right;\">\n",
              "      <th></th>\n",
              "      <th>products</th>\n",
              "      <th>timestamp</th>\n",
              "      <th>transaction</th>\n",
              "      <th>uid</th>\n",
              "      <th>product</th>\n",
              "      <th>recommended_size</th>\n",
              "      <th>time</th>\n",
              "      <th>trans_productid</th>\n",
              "    </tr>\n",
              "  </thead>\n",
              "  <tbody>\n",
              "    <tr>\n",
              "      <th>0</th>\n",
              "      <td>[{'quantity': 1, 'size': 'International S', 'p...</td>\n",
              "      <td>2019-02-01 02:29:41.281</td>\n",
              "      <td>236742962</td>\n",
              "      <td>3528be91-d6a2-4ec6-b26d-076dcc8ee15e</td>\n",
              "      <td>A00F7AA5E23E13GS</td>\n",
              "      <td>[{'size': 'INT S', 'confidence': 4, 'bust': 0,...</td>\n",
              "      <td>2019-02-01T02:22:00.260Z</td>\n",
              "      <td>[994DBAA2817BC8GS, A00F7AA5E23E13GS, 61686AAA4...</td>\n",
              "    </tr>\n",
              "    <tr>\n",
              "      <th>1</th>\n",
              "      <td>[{'quantity': 1, 'size': 'International L', 'p...</td>\n",
              "      <td>2019-02-03 07:02:11.840</td>\n",
              "      <td>221356962</td>\n",
              "      <td>0c349735-c293-4731-ae90-451b8a1da885</td>\n",
              "      <td>BAB9CAA0751876GS</td>\n",
              "      <td>[{'size': 'INT S', 'confidence': 2, 'bust': 5,...</td>\n",
              "      <td>2019-02-01T15:39:50.702Z</td>\n",
              "      <td>[CH672AA0KGM2PH, BAB9CAA0751876GS, 759D2AA21B2...</td>\n",
              "    </tr>\n",
              "    <tr>\n",
              "      <th>2</th>\n",
              "      <td>[{'quantity': 1, 'size': 'International L', 'p...</td>\n",
              "      <td>2019-02-03 07:02:11.840</td>\n",
              "      <td>221356962</td>\n",
              "      <td>0c349735-c293-4731-ae90-451b8a1da885</td>\n",
              "      <td>BAB9CAA0751876GS</td>\n",
              "      <td>[{'size': 'INT S', 'confidence': 2, 'bust': 5,...</td>\n",
              "      <td>2019-02-01T15:41:32.259Z</td>\n",
              "      <td>[CH672AA0KGM2PH, BAB9CAA0751876GS, 759D2AA21B2...</td>\n",
              "    </tr>\n",
              "    <tr>\n",
              "      <th>3</th>\n",
              "      <td>[{'quantity': 1, 'size': 'International L', 'p...</td>\n",
              "      <td>2019-02-03 07:02:11.840</td>\n",
              "      <td>221356962</td>\n",
              "      <td>0c349735-c293-4731-ae90-451b8a1da885</td>\n",
              "      <td>BAB9CAA0751876GS</td>\n",
              "      <td>[{'size': 'INT S', 'confidence': 2, 'bust': 5,...</td>\n",
              "      <td>2019-02-03T07:00:07.605Z</td>\n",
              "      <td>[CH672AA0KGM2PH, BAB9CAA0751876GS, 759D2AA21B2...</td>\n",
              "    </tr>\n",
              "    <tr>\n",
              "      <th>4</th>\n",
              "      <td>[{'quantity': 1, 'size': 'International L', 'p...</td>\n",
              "      <td>2019-02-03 07:02:11.840</td>\n",
              "      <td>221356962</td>\n",
              "      <td>0c349735-c293-4731-ae90-451b8a1da885</td>\n",
              "      <td>BAB9CAA0751876GS</td>\n",
              "      <td>[{'size': 'INT S', 'confidence': 2, 'bust': 5,...</td>\n",
              "      <td>2019-02-17T00:25:07.689Z</td>\n",
              "      <td>[CH672AA0KGM2PH, BAB9CAA0751876GS, 759D2AA21B2...</td>\n",
              "    </tr>\n",
              "    <tr>\n",
              "      <th>5</th>\n",
              "      <td>[{'quantity': 1, 'size': 'International L', 'p...</td>\n",
              "      <td>2019-02-03 07:02:11.840</td>\n",
              "      <td>221356962</td>\n",
              "      <td>0c349735-c293-4731-ae90-451b8a1da885</td>\n",
              "      <td>BAB9CAA0751876GS</td>\n",
              "      <td>[{'size': 'INT S', 'confidence': 2, 'bust': 5,...</td>\n",
              "      <td>2019-02-01T15:44:13.646Z</td>\n",
              "      <td>[CH672AA0KGM2PH, BAB9CAA0751876GS, 759D2AA21B2...</td>\n",
              "    </tr>\n",
              "    <tr>\n",
              "      <th>6</th>\n",
              "      <td>[{'quantity': 1, 'size': 'International L', 'p...</td>\n",
              "      <td>2019-02-03 07:02:11.840</td>\n",
              "      <td>221356962</td>\n",
              "      <td>0c349735-c293-4731-ae90-451b8a1da885</td>\n",
              "      <td>BAB9CAA0751876GS</td>\n",
              "      <td>[{'size': 'INT S', 'confidence': 2, 'bust': 5,...</td>\n",
              "      <td>2019-02-01T15:44:32.208Z</td>\n",
              "      <td>[CH672AA0KGM2PH, BAB9CAA0751876GS, 759D2AA21B2...</td>\n",
              "    </tr>\n",
              "    <tr>\n",
              "      <th>7</th>\n",
              "      <td>[{'quantity': 1, 'size': 'International L', 'p...</td>\n",
              "      <td>2019-02-03 07:02:11.840</td>\n",
              "      <td>221356962</td>\n",
              "      <td>0c349735-c293-4731-ae90-451b8a1da885</td>\n",
              "      <td>BAB9CAA0751876GS</td>\n",
              "      <td>[{'size': 'INT S', 'confidence': 2, 'bust': 5,...</td>\n",
              "      <td>2019-02-02T00:38:02.997Z</td>\n",
              "      <td>[CH672AA0KGM2PH, BAB9CAA0751876GS, 759D2AA21B2...</td>\n",
              "    </tr>\n",
              "    <tr>\n",
              "      <th>8</th>\n",
              "      <td>[{'quantity': 1, 'size': 'International S', 'p...</td>\n",
              "      <td>2019-02-18 14:27:37.607</td>\n",
              "      <td>251985862</td>\n",
              "      <td>0c349735-c293-4731-ae90-451b8a1da885</td>\n",
              "      <td>4E0D7AAB686A0BGS</td>\n",
              "      <td>[{'size': 'INT S', 'confidence': 2, 'bust': 5,...</td>\n",
              "      <td>2019-02-06T12:21:25.174Z</td>\n",
              "      <td>[4E0D7AAB686A0BGS, 39FFDAA3A64B28GS, C71A3AA99...</td>\n",
              "    </tr>\n",
              "    <tr>\n",
              "      <th>9</th>\n",
              "      <td>[{'quantity': 1, 'size': 'International S', 'p...</td>\n",
              "      <td>2019-02-18 14:27:37.607</td>\n",
              "      <td>251985862</td>\n",
              "      <td>0c349735-c293-4731-ae90-451b8a1da885</td>\n",
              "      <td>4E0D7AAB686A0BGS</td>\n",
              "      <td>[{'size': 'INT S', 'confidence': 2, 'bust': 5,...</td>\n",
              "      <td>2019-02-16T15:28:59.347Z</td>\n",
              "      <td>[4E0D7AAB686A0BGS, 39FFDAA3A64B28GS, C71A3AA99...</td>\n",
              "    </tr>\n",
              "    <tr>\n",
              "      <th>10</th>\n",
              "      <td>[{'quantity': 1, 'size': 'International S', 'p...</td>\n",
              "      <td>2019-02-18 14:27:37.607</td>\n",
              "      <td>251985862</td>\n",
              "      <td>0c349735-c293-4731-ae90-451b8a1da885</td>\n",
              "      <td>4E0D7AAB686A0BGS</td>\n",
              "      <td>[{'size': 'INT S', 'confidence': 2, 'bust': 5,...</td>\n",
              "      <td>2019-02-16T15:28:02.452Z</td>\n",
              "      <td>[4E0D7AAB686A0BGS, 39FFDAA3A64B28GS, C71A3AA99...</td>\n",
              "    </tr>\n",
              "    <tr>\n",
              "      <th>11</th>\n",
              "      <td>[{'quantity': 1, 'size': 'International S', 'p...</td>\n",
              "      <td>2019-02-18 14:27:37.607</td>\n",
              "      <td>251985862</td>\n",
              "      <td>0c349735-c293-4731-ae90-451b8a1da885</td>\n",
              "      <td>4E0D7AAB686A0BGS</td>\n",
              "      <td>[{'size': 'INT S', 'confidence': 2, 'bust': 5,...</td>\n",
              "      <td>2019-02-17T00:27:00.147Z</td>\n",
              "      <td>[4E0D7AAB686A0BGS, 39FFDAA3A64B28GS, C71A3AA99...</td>\n",
              "    </tr>\n",
              "    <tr>\n",
              "      <th>12</th>\n",
              "      <td>[{'quantity': 1, 'size': 'International S', 'p...</td>\n",
              "      <td>2019-02-18 14:27:37.607</td>\n",
              "      <td>251985862</td>\n",
              "      <td>0c349735-c293-4731-ae90-451b8a1da885</td>\n",
              "      <td>4E0D7AAB686A0BGS</td>\n",
              "      <td>[{'size': 'INT S', 'confidence': 2, 'bust': 5,...</td>\n",
              "      <td>2019-02-06T15:22:57.836Z</td>\n",
              "      <td>[4E0D7AAB686A0BGS, 39FFDAA3A64B28GS, C71A3AA99...</td>\n",
              "    </tr>\n",
              "    <tr>\n",
              "      <th>13</th>\n",
              "      <td>[{'quantity': 1, 'size': 'International S', 'p...</td>\n",
              "      <td>2019-02-18 14:27:37.607</td>\n",
              "      <td>251985862</td>\n",
              "      <td>0c349735-c293-4731-ae90-451b8a1da885</td>\n",
              "      <td>4E0D7AAB686A0BGS</td>\n",
              "      <td>[{'size': 'INT S', 'confidence': 2, 'bust': 5,...</td>\n",
              "      <td>2019-02-06T19:35:43.435Z</td>\n",
              "      <td>[4E0D7AAB686A0BGS, 39FFDAA3A64B28GS, C71A3AA99...</td>\n",
              "    </tr>\n",
              "    <tr>\n",
              "      <th>14</th>\n",
              "      <td>[{'quantity': 1, 'size': 'International S', 'p...</td>\n",
              "      <td>2019-02-18 14:27:37.607</td>\n",
              "      <td>251985862</td>\n",
              "      <td>0c349735-c293-4731-ae90-451b8a1da885</td>\n",
              "      <td>4E0D7AAB686A0BGS</td>\n",
              "      <td>[{'size': 'INT S', 'confidence': 2, 'bust': 5,...</td>\n",
              "      <td>2019-02-17T00:27:28.246Z</td>\n",
              "      <td>[4E0D7AAB686A0BGS, 39FFDAA3A64B28GS, C71A3AA99...</td>\n",
              "    </tr>\n",
              "    <tr>\n",
              "      <th>15</th>\n",
              "      <td>[{'quantity': 1, 'size': 'Waist x Length W2926...</td>\n",
              "      <td>2019-02-06 19:18:41.887</td>\n",
              "      <td>251917962</td>\n",
              "      <td>0c349735-c293-4731-ae90-451b8a1da885</td>\n",
              "      <td>9C659AA4AED569GS</td>\n",
              "      <td>[{'size': '28', 'confidence': 3, 'bust': 0, 'w...</td>\n",
              "      <td>2019-02-07T13:01:30.902Z</td>\n",
              "      <td>9C659AA4AED569GS</td>\n",
              "    </tr>\n",
              "    <tr>\n",
              "      <th>16</th>\n",
              "      <td>[{'quantity': 1, 'size': 'Waist x Length W2926...</td>\n",
              "      <td>2019-02-06 19:18:41.887</td>\n",
              "      <td>251917962</td>\n",
              "      <td>0c349735-c293-4731-ae90-451b8a1da885</td>\n",
              "      <td>9C659AA4AED569GS</td>\n",
              "      <td>[{'size': '28', 'confidence': 3, 'bust': 0, 'w...</td>\n",
              "      <td>2019-02-06T15:31:14.574Z</td>\n",
              "      <td>9C659AA4AED569GS</td>\n",
              "    </tr>\n",
              "    <tr>\n",
              "      <th>17</th>\n",
              "      <td>[{'quantity': 1, 'size': 'International L', 'p...</td>\n",
              "      <td>2019-02-04 19:46:27.489</td>\n",
              "      <td>273448962</td>\n",
              "      <td>65e57b99-d3c6-433d-93f0-6550f721260e</td>\n",
              "      <td>625B4AA0F3327BGS</td>\n",
              "      <td>[{'size': 'INT L', 'confidence': 3, 'bust': 2,...</td>\n",
              "      <td>2019-02-11T21:00:46.737Z</td>\n",
              "      <td>625B4AA0F3327BGS</td>\n",
              "    </tr>\n",
              "    <tr>\n",
              "      <th>18</th>\n",
              "      <td>[{'quantity': 1, 'size': 'International L', 'p...</td>\n",
              "      <td>2019-02-04 19:46:27.489</td>\n",
              "      <td>273448962</td>\n",
              "      <td>65e57b99-d3c6-433d-93f0-6550f721260e</td>\n",
              "      <td>625B4AA0F3327BGS</td>\n",
              "      <td>[{'size': 'INT L', 'confidence': 3, 'bust': 2,...</td>\n",
              "      <td>2019-02-19T16:39:53.344Z</td>\n",
              "      <td>625B4AA0F3327BGS</td>\n",
              "    </tr>\n",
              "    <tr>\n",
              "      <th>19</th>\n",
              "      <td>[{'quantity': 1, 'size': 'International L', 'p...</td>\n",
              "      <td>2019-02-04 19:46:27.489</td>\n",
              "      <td>273448962</td>\n",
              "      <td>65e57b99-d3c6-433d-93f0-6550f721260e</td>\n",
              "      <td>625B4AA0F3327BGS</td>\n",
              "      <td>[{'size': 'INT L', 'confidence': 3, 'bust': 2,...</td>\n",
              "      <td>2019-02-19T16:39:53.344Z</td>\n",
              "      <td>625B4AA0F3327BGS</td>\n",
              "    </tr>\n",
              "    <tr>\n",
              "      <th>20</th>\n",
              "      <td>[{'quantity': 1, 'size': 'International XL', '...</td>\n",
              "      <td>2019-02-11 21:03:28.462</td>\n",
              "      <td>221114862</td>\n",
              "      <td>65e57b99-d3c6-433d-93f0-6550f721260e</td>\n",
              "      <td>625B4AA0F3327BGS</td>\n",
              "      <td>[{'size': 'INT L', 'confidence': 3, 'bust': 2,...</td>\n",
              "      <td>2019-02-11T21:00:46.737Z</td>\n",
              "      <td>625B4AA0F3327BGS</td>\n",
              "    </tr>\n",
              "    <tr>\n",
              "      <th>21</th>\n",
              "      <td>[{'quantity': 1, 'size': 'International XL', '...</td>\n",
              "      <td>2019-02-11 21:03:28.462</td>\n",
              "      <td>221114862</td>\n",
              "      <td>65e57b99-d3c6-433d-93f0-6550f721260e</td>\n",
              "      <td>625B4AA0F3327BGS</td>\n",
              "      <td>[{'size': 'INT L', 'confidence': 3, 'bust': 2,...</td>\n",
              "      <td>2019-02-19T16:39:53.344Z</td>\n",
              "      <td>625B4AA0F3327BGS</td>\n",
              "    </tr>\n",
              "    <tr>\n",
              "      <th>22</th>\n",
              "      <td>[{'quantity': 1, 'size': 'International XL', '...</td>\n",
              "      <td>2019-02-11 21:03:28.462</td>\n",
              "      <td>221114862</td>\n",
              "      <td>65e57b99-d3c6-433d-93f0-6550f721260e</td>\n",
              "      <td>625B4AA0F3327BGS</td>\n",
              "      <td>[{'size': 'INT L', 'confidence': 3, 'bust': 2,...</td>\n",
              "      <td>2019-02-19T16:39:53.344Z</td>\n",
              "      <td>625B4AA0F3327BGS</td>\n",
              "    </tr>\n",
              "    <tr>\n",
              "      <th>23</th>\n",
              "      <td>[{'quantity': 1, 'size': 'International S', 'p...</td>\n",
              "      <td>2019-02-21 04:54:33.834</td>\n",
              "      <td>244983862</td>\n",
              "      <td>282a5d73-a9f3-41ac-913c-c289586bba0b</td>\n",
              "      <td>1F3CDAA6CE7A94GS</td>\n",
              "      <td>[{'size': 'UK 8', 'confidence': 2, 'bust': 1, ...</td>\n",
              "      <td>2019-02-21T04:46:48.299Z</td>\n",
              "      <td>[B2957AAC19B6E2GS, 1F3CDAA6CE7A94GS]</td>\n",
              "    </tr>\n",
              "    <tr>\n",
              "      <th>24</th>\n",
              "      <td>[{'quantity': 1, 'size': 'International S', 'p...</td>\n",
              "      <td>2019-02-21 04:54:33.834</td>\n",
              "      <td>244983862</td>\n",
              "      <td>282a5d73-a9f3-41ac-913c-c289586bba0b</td>\n",
              "      <td>1F3CDAA6CE7A94GS</td>\n",
              "      <td>[{'size': 'UK 8', 'confidence': 2, 'bust': 1, ...</td>\n",
              "      <td>2019-02-21T04:46:48.299Z</td>\n",
              "      <td>[B2957AAC19B6E2GS, 1F3CDAA6CE7A94GS]</td>\n",
              "    </tr>\n",
              "    <tr>\n",
              "      <th>25</th>\n",
              "      <td>[{'quantity': 1, 'size': 'International S', 'p...</td>\n",
              "      <td>2019-02-21 04:54:33.834</td>\n",
              "      <td>244983862</td>\n",
              "      <td>282a5d73-a9f3-41ac-913c-c289586bba0b</td>\n",
              "      <td>B2957AAC19B6E2GS</td>\n",
              "      <td>[{'size': 'INT S', 'confidence': 3, 'bust': 1,...</td>\n",
              "      <td>2019-02-27T02:09:16.234Z</td>\n",
              "      <td>[B2957AAC19B6E2GS, 1F3CDAA6CE7A94GS]</td>\n",
              "    </tr>\n",
              "    <tr>\n",
              "      <th>26</th>\n",
              "      <td>[{'quantity': 1, 'size': 'International M', 'p...</td>\n",
              "      <td>2019-02-06 10:56:03.886</td>\n",
              "      <td>291477962</td>\n",
              "      <td>385d88cf-4c07-4238-afae-2e30e011be46</td>\n",
              "      <td>47158AAD1878D9GS</td>\n",
              "      <td>[{'size': 'INT M', 'confidence': 2, 'bust': 5,...</td>\n",
              "      <td>2019-02-06T10:26:00.937Z</td>\n",
              "      <td>[0EF77AAE6D1367GS, 47158AAD1878D9GS, B0420AA42...</td>\n",
              "    </tr>\n",
              "    <tr>\n",
              "      <th>27</th>\n",
              "      <td>[{'quantity': 1, 'size': 'International M', 'p...</td>\n",
              "      <td>2019-02-06 10:56:03.886</td>\n",
              "      <td>291477962</td>\n",
              "      <td>385d88cf-4c07-4238-afae-2e30e011be46</td>\n",
              "      <td>47158AAD1878D9GS</td>\n",
              "      <td>[{'size': 'INT M', 'confidence': 2, 'bust': 5,...</td>\n",
              "      <td>2019-02-06T10:44:06.174Z</td>\n",
              "      <td>[0EF77AAE6D1367GS, 47158AAD1878D9GS, B0420AA42...</td>\n",
              "    </tr>\n",
              "    <tr>\n",
              "      <th>28</th>\n",
              "      <td>[{'quantity': 1, 'size': 'International M', 'p...</td>\n",
              "      <td>2019-02-06 10:56:03.886</td>\n",
              "      <td>291477962</td>\n",
              "      <td>385d88cf-4c07-4238-afae-2e30e011be46</td>\n",
              "      <td>47158AAD1878D9GS</td>\n",
              "      <td>[{'size': 'INT M', 'confidence': 2, 'bust': 5,...</td>\n",
              "      <td>2019-02-06T10:35:15.046Z</td>\n",
              "      <td>[0EF77AAE6D1367GS, 47158AAD1878D9GS, B0420AA42...</td>\n",
              "    </tr>\n",
              "    <tr>\n",
              "      <th>29</th>\n",
              "      <td>[{'quantity': 1, 'size': 'International M', 'p...</td>\n",
              "      <td>2019-02-06 10:56:03.886</td>\n",
              "      <td>291477962</td>\n",
              "      <td>385d88cf-4c07-4238-afae-2e30e011be46</td>\n",
              "      <td>B0420AA4264AEBGS</td>\n",
              "      <td>[{'size': 'INT M', 'confidence': 4, 'bust': 0,...</td>\n",
              "      <td>2019-02-07T05:44:11.679Z</td>\n",
              "      <td>[0EF77AAE6D1367GS, 47158AAD1878D9GS, B0420AA42...</td>\n",
              "    </tr>\n",
              "    <tr>\n",
              "      <th>...</th>\n",
              "      <td>...</td>\n",
              "      <td>...</td>\n",
              "      <td>...</td>\n",
              "      <td>...</td>\n",
              "      <td>...</td>\n",
              "      <td>...</td>\n",
              "      <td>...</td>\n",
              "      <td>...</td>\n",
              "    </tr>\n",
              "    <tr>\n",
              "      <th>495</th>\n",
              "      <td>[{'quantity': 1, 'size': 'International XL', '...</td>\n",
              "      <td>2019-02-27 14:38:20.442</td>\n",
              "      <td>237548762</td>\n",
              "      <td>eac6dc87-de2b-468e-a4a9-b82f73bd3330</td>\n",
              "      <td>967BAAAA1237AFGS</td>\n",
              "      <td>[{'size': 'INT L', 'confidence': 2, 'bust': 1,...</td>\n",
              "      <td>2019-02-27T14:19:47.538Z</td>\n",
              "      <td>967BAAAA1237AFGS</td>\n",
              "    </tr>\n",
              "    <tr>\n",
              "      <th>496</th>\n",
              "      <td>[{'quantity': 1, 'size': 'International S', 'p...</td>\n",
              "      <td>2019-02-27 11:02:00.180</td>\n",
              "      <td>283639762</td>\n",
              "      <td>e0717a0b-06a6-48eb-bfd0-921b3e44c7fe</td>\n",
              "      <td>E584FAAAFEC6C8GS</td>\n",
              "      <td>[{'size': 'INT XS', 'confidence': 3, 'bust': 0...</td>\n",
              "      <td>2019-02-27T15:52:28.393Z</td>\n",
              "      <td>E584FAAAFEC6C8GS</td>\n",
              "    </tr>\n",
              "    <tr>\n",
              "      <th>497</th>\n",
              "      <td>[{'quantity': 1, 'size': 'International S', 'p...</td>\n",
              "      <td>2019-02-27 11:02:00.180</td>\n",
              "      <td>283639762</td>\n",
              "      <td>e0717a0b-06a6-48eb-bfd0-921b3e44c7fe</td>\n",
              "      <td>E584FAAAFEC6C8GS</td>\n",
              "      <td>[{'size': 'INT XS', 'confidence': 3, 'bust': 0...</td>\n",
              "      <td>2019-02-27T15:52:28.393Z</td>\n",
              "      <td>E584FAAAFEC6C8GS</td>\n",
              "    </tr>\n",
              "    <tr>\n",
              "      <th>498</th>\n",
              "      <td>[{'quantity': 1, 'size': 'International S', 'p...</td>\n",
              "      <td>2019-02-27 11:02:00.180</td>\n",
              "      <td>283639762</td>\n",
              "      <td>e0717a0b-06a6-48eb-bfd0-921b3e44c7fe</td>\n",
              "      <td>E584FAAAFEC6C8GS</td>\n",
              "      <td>[{'size': 'INT XS', 'confidence': 3, 'bust': 0...</td>\n",
              "      <td>2019-02-27T10:55:44.658Z</td>\n",
              "      <td>E584FAAAFEC6C8GS</td>\n",
              "    </tr>\n",
              "    <tr>\n",
              "      <th>499</th>\n",
              "      <td>[{'quantity': 1, 'size': 'EU 38', 'price': '0'...</td>\n",
              "      <td>2019-02-14 06:11:42.066</td>\n",
              "      <td>293816862</td>\n",
              "      <td>f20f9aff-650d-49d9-9e6a-f692408dd254</td>\n",
              "      <td>85089AACA279C5GS</td>\n",
              "      <td>[{'size': 'EU 36', 'confidence': 3, 'bust': 0,...</td>\n",
              "      <td>2019-02-14T05:35:22.674Z</td>\n",
              "      <td>[85089AACA279C5GS, C14D4AA6855640GS]</td>\n",
              "    </tr>\n",
              "    <tr>\n",
              "      <th>500</th>\n",
              "      <td>[{'quantity': 1, 'size': 'EU 38', 'price': '0'...</td>\n",
              "      <td>2019-02-14 06:11:42.066</td>\n",
              "      <td>293816862</td>\n",
              "      <td>f20f9aff-650d-49d9-9e6a-f692408dd254</td>\n",
              "      <td>85089AACA279C5GS</td>\n",
              "      <td>[{'size': 'EU 36', 'confidence': 3, 'bust': 0,...</td>\n",
              "      <td>2019-02-11T01:21:07.990Z</td>\n",
              "      <td>[85089AACA279C5GS, C14D4AA6855640GS]</td>\n",
              "    </tr>\n",
              "    <tr>\n",
              "      <th>501</th>\n",
              "      <td>[{'quantity': 1, 'size': 'EU 38', 'price': '0'...</td>\n",
              "      <td>2019-02-14 06:11:42.066</td>\n",
              "      <td>293816862</td>\n",
              "      <td>f20f9aff-650d-49d9-9e6a-f692408dd254</td>\n",
              "      <td>85089AACA279C5GS</td>\n",
              "      <td>[{'size': 'EU 36', 'confidence': 3, 'bust': 0,...</td>\n",
              "      <td>2019-02-14T05:34:59.047Z</td>\n",
              "      <td>[85089AACA279C5GS, C14D4AA6855640GS]</td>\n",
              "    </tr>\n",
              "    <tr>\n",
              "      <th>502</th>\n",
              "      <td>[{'quantity': 1, 'size': 'UK 8', 'price': '167...</td>\n",
              "      <td>2019-02-01 01:33:19.735</td>\n",
              "      <td>282242962</td>\n",
              "      <td>f20f9aff-650d-49d9-9e6a-f692408dd254</td>\n",
              "      <td>3DAA0AABEBC5BDGS</td>\n",
              "      <td>[{'size': 'UK 10', 'confidence': 4, 'bust': 2,...</td>\n",
              "      <td>2019-02-01T01:27:32.416Z</td>\n",
              "      <td>3DAA0AABEBC5BDGS</td>\n",
              "    </tr>\n",
              "    <tr>\n",
              "      <th>503</th>\n",
              "      <td>[{'quantity': 1, 'size': 'UK 8', 'price': '167...</td>\n",
              "      <td>2019-02-01 01:33:19.735</td>\n",
              "      <td>282242962</td>\n",
              "      <td>f20f9aff-650d-49d9-9e6a-f692408dd254</td>\n",
              "      <td>3DAA0AABEBC5BDGS</td>\n",
              "      <td>[{'size': 'UK 10', 'confidence': 4, 'bust': 2,...</td>\n",
              "      <td>2019-02-01T01:21:50.149Z</td>\n",
              "      <td>3DAA0AABEBC5BDGS</td>\n",
              "    </tr>\n",
              "    <tr>\n",
              "      <th>504</th>\n",
              "      <td>[{'quantity': 1, 'size': 'UK 8', 'price': '167...</td>\n",
              "      <td>2019-02-01 01:33:19.735</td>\n",
              "      <td>282242962</td>\n",
              "      <td>f20f9aff-650d-49d9-9e6a-f692408dd254</td>\n",
              "      <td>3DAA0AABEBC5BDGS</td>\n",
              "      <td>[{'size': 'UK 10', 'confidence': 4, 'bust': 2,...</td>\n",
              "      <td>2019-02-01T01:25:48.479Z</td>\n",
              "      <td>3DAA0AABEBC5BDGS</td>\n",
              "    </tr>\n",
              "    <tr>\n",
              "      <th>505</th>\n",
              "      <td>[{'quantity': 1, 'size': 'International S/M', ...</td>\n",
              "      <td>2019-02-20 04:09:25.941</td>\n",
              "      <td>217451862</td>\n",
              "      <td>068dbebc-aced-432d-9ef5-bf370ebbfada</td>\n",
              "      <td>C214DAA3DE80DAGS</td>\n",
              "      <td>[{'size': 'UK 8', 'confidence': 2, 'bust': 5, ...</td>\n",
              "      <td>2019-02-20T04:05:11.336Z</td>\n",
              "      <td>[C214DAA3DE80DAGS, 5FA0EAAA457C99GS, 43845AA5F...</td>\n",
              "    </tr>\n",
              "    <tr>\n",
              "      <th>506</th>\n",
              "      <td>[{'quantity': 1, 'size': 'International S/M', ...</td>\n",
              "      <td>2019-02-20 04:09:25.941</td>\n",
              "      <td>217451862</td>\n",
              "      <td>068dbebc-aced-432d-9ef5-bf370ebbfada</td>\n",
              "      <td>C214DAA3DE80DAGS</td>\n",
              "      <td>[{'size': 'UK 8', 'confidence': 2, 'bust': 5, ...</td>\n",
              "      <td>2019-02-20T04:05:11.336Z</td>\n",
              "      <td>[C214DAA3DE80DAGS, 5FA0EAAA457C99GS, 43845AA5F...</td>\n",
              "    </tr>\n",
              "    <tr>\n",
              "      <th>507</th>\n",
              "      <td>[{'quantity': 1, 'size': 'International M', 'p...</td>\n",
              "      <td>2019-02-20 07:02:15.916</td>\n",
              "      <td>295211862</td>\n",
              "      <td>487e5b09-718a-47a2-a1b3-f623533b69e7</td>\n",
              "      <td>9B51DAA1F57F4AGS</td>\n",
              "      <td>[{'size': 'INT S', 'confidence': 4, 'bust': 3,...</td>\n",
              "      <td>2019-02-20T05:46:06.969Z</td>\n",
              "      <td>[F0DC3AA143F799GS, 94B5BAA6FC598BGS, 9B51DAA1F...</td>\n",
              "    </tr>\n",
              "    <tr>\n",
              "      <th>508</th>\n",
              "      <td>[{'quantity': 1, 'size': 'International M', 'p...</td>\n",
              "      <td>2019-02-20 07:02:15.916</td>\n",
              "      <td>295211862</td>\n",
              "      <td>487e5b09-718a-47a2-a1b3-f623533b69e7</td>\n",
              "      <td>F0DC3AA143F799GS</td>\n",
              "      <td>[{'size': 'INT S', 'confidence': 2, 'bust': 5,...</td>\n",
              "      <td>2019-02-19T01:33:02.001Z</td>\n",
              "      <td>[F0DC3AA143F799GS, 94B5BAA6FC598BGS, 9B51DAA1F...</td>\n",
              "    </tr>\n",
              "    <tr>\n",
              "      <th>509</th>\n",
              "      <td>[{'quantity': 1, 'size': 'International M', 'p...</td>\n",
              "      <td>2019-02-20 07:02:15.916</td>\n",
              "      <td>295211862</td>\n",
              "      <td>487e5b09-718a-47a2-a1b3-f623533b69e7</td>\n",
              "      <td>94B5BAA6FC598BGS</td>\n",
              "      <td>[{'size': 'INT XS', 'confidence': 4, 'bust': 3...</td>\n",
              "      <td>2019-02-22T05:23:56.487Z</td>\n",
              "      <td>[F0DC3AA143F799GS, 94B5BAA6FC598BGS, 9B51DAA1F...</td>\n",
              "    </tr>\n",
              "    <tr>\n",
              "      <th>510</th>\n",
              "      <td>[{'quantity': 1, 'size': 'International M', 'p...</td>\n",
              "      <td>2019-02-20 07:02:15.916</td>\n",
              "      <td>295211862</td>\n",
              "      <td>487e5b09-718a-47a2-a1b3-f623533b69e7</td>\n",
              "      <td>94B5BAA6FC598BGS</td>\n",
              "      <td>[{'size': 'INT XS', 'confidence': 4, 'bust': 3...</td>\n",
              "      <td>2019-02-19T07:31:21.040Z</td>\n",
              "      <td>[F0DC3AA143F799GS, 94B5BAA6FC598BGS, 9B51DAA1F...</td>\n",
              "    </tr>\n",
              "    <tr>\n",
              "      <th>511</th>\n",
              "      <td>[{'quantity': 1, 'size': 'International M', 'p...</td>\n",
              "      <td>2019-02-20 07:02:15.916</td>\n",
              "      <td>295211862</td>\n",
              "      <td>487e5b09-718a-47a2-a1b3-f623533b69e7</td>\n",
              "      <td>9B51DAA1F57F4AGS</td>\n",
              "      <td>[{'size': 'INT S', 'confidence': 4, 'bust': 3,...</td>\n",
              "      <td>2019-02-20T05:46:06.969Z</td>\n",
              "      <td>[F0DC3AA143F799GS, 94B5BAA6FC598BGS, 9B51DAA1F...</td>\n",
              "    </tr>\n",
              "    <tr>\n",
              "      <th>512</th>\n",
              "      <td>[{'quantity': 1, 'size': 'International M', 'p...</td>\n",
              "      <td>2019-02-20 07:02:15.916</td>\n",
              "      <td>295211862</td>\n",
              "      <td>487e5b09-718a-47a2-a1b3-f623533b69e7</td>\n",
              "      <td>F0DC3AA143F799GS</td>\n",
              "      <td>[{'size': 'INT S', 'confidence': 2, 'bust': 5,...</td>\n",
              "      <td>2019-02-19T01:33:02.001Z</td>\n",
              "      <td>[F0DC3AA143F799GS, 94B5BAA6FC598BGS, 9B51DAA1F...</td>\n",
              "    </tr>\n",
              "    <tr>\n",
              "      <th>513</th>\n",
              "      <td>[{'quantity': 1, 'size': 'International M', 'p...</td>\n",
              "      <td>2019-02-20 07:02:15.916</td>\n",
              "      <td>295211862</td>\n",
              "      <td>487e5b09-718a-47a2-a1b3-f623533b69e7</td>\n",
              "      <td>94B5BAA6FC598BGS</td>\n",
              "      <td>[{'size': 'INT XS', 'confidence': 4, 'bust': 3...</td>\n",
              "      <td>2019-02-19T07:31:21.040Z</td>\n",
              "      <td>[F0DC3AA143F799GS, 94B5BAA6FC598BGS, 9B51DAA1F...</td>\n",
              "    </tr>\n",
              "    <tr>\n",
              "      <th>514</th>\n",
              "      <td>[{'quantity': 1, 'size': 'International M', 'p...</td>\n",
              "      <td>2019-02-20 07:02:15.916</td>\n",
              "      <td>295211862</td>\n",
              "      <td>487e5b09-718a-47a2-a1b3-f623533b69e7</td>\n",
              "      <td>94B5BAA6FC598BGS</td>\n",
              "      <td>[{'size': 'INT XS', 'confidence': 4, 'bust': 3...</td>\n",
              "      <td>2019-02-22T05:23:56.487Z</td>\n",
              "      <td>[F0DC3AA143F799GS, 94B5BAA6FC598BGS, 9B51DAA1F...</td>\n",
              "    </tr>\n",
              "    <tr>\n",
              "      <th>515</th>\n",
              "      <td>[{'quantity': 1, 'size': 'International M', 'p...</td>\n",
              "      <td>2019-02-20 07:02:15.916</td>\n",
              "      <td>295211862</td>\n",
              "      <td>487e5b09-718a-47a2-a1b3-f623533b69e7</td>\n",
              "      <td>F0DC3AA143F799GS</td>\n",
              "      <td>[{'size': 'INT S', 'confidence': 4, 'bust': 3,...</td>\n",
              "      <td>2019-02-20T05:48:09.369Z</td>\n",
              "      <td>[F0DC3AA143F799GS, 94B5BAA6FC598BGS, 9B51DAA1F...</td>\n",
              "    </tr>\n",
              "    <tr>\n",
              "      <th>516</th>\n",
              "      <td>[{'quantity': 1, 'size': 'International M', 'p...</td>\n",
              "      <td>2019-02-20 07:02:15.916</td>\n",
              "      <td>295211862</td>\n",
              "      <td>487e5b09-718a-47a2-a1b3-f623533b69e7</td>\n",
              "      <td>9B51DAA1F57F4AGS</td>\n",
              "      <td>[{'size': 'INT S', 'confidence': 2, 'bust': 5,...</td>\n",
              "      <td>2019-02-19T01:31:26.364Z</td>\n",
              "      <td>[F0DC3AA143F799GS, 94B5BAA6FC598BGS, 9B51DAA1F...</td>\n",
              "    </tr>\n",
              "    <tr>\n",
              "      <th>517</th>\n",
              "      <td>[{'quantity': 1, 'size': 'International XS', '...</td>\n",
              "      <td>2019-02-05 08:17:21.520</td>\n",
              "      <td>266478962</td>\n",
              "      <td>58d6fb85-7f8e-4835-8507-d558334a0b53</td>\n",
              "      <td>E7B9AAA0DE8322GS</td>\n",
              "      <td>[{'size': 'INT XS', 'confidence': 5, 'bust': 0...</td>\n",
              "      <td>2019-02-05T08:11:25.633Z</td>\n",
              "      <td>E7B9AAA0DE8322GS</td>\n",
              "    </tr>\n",
              "    <tr>\n",
              "      <th>518</th>\n",
              "      <td>[{'quantity': 1, 'size': 'International XS', '...</td>\n",
              "      <td>2019-02-05 08:17:21.520</td>\n",
              "      <td>266478962</td>\n",
              "      <td>58d6fb85-7f8e-4835-8507-d558334a0b53</td>\n",
              "      <td>E7B9AAA0DE8322GS</td>\n",
              "      <td>[{'size': 'INT XS', 'confidence': 5, 'bust': 0...</td>\n",
              "      <td>2019-02-05T07:51:02.636Z</td>\n",
              "      <td>E7B9AAA0DE8322GS</td>\n",
              "    </tr>\n",
              "    <tr>\n",
              "      <th>519</th>\n",
              "      <td>[{'quantity': 1, 'size': 'International XS', '...</td>\n",
              "      <td>2019-02-05 08:17:21.520</td>\n",
              "      <td>266478962</td>\n",
              "      <td>58d6fb85-7f8e-4835-8507-d558334a0b53</td>\n",
              "      <td>E7B9AAA0DE8322GS</td>\n",
              "      <td>[{'size': 'INT XS', 'confidence': 5, 'bust': 0...</td>\n",
              "      <td>2019-02-05T07:51:14.267Z</td>\n",
              "      <td>E7B9AAA0DE8322GS</td>\n",
              "    </tr>\n",
              "    <tr>\n",
              "      <th>520</th>\n",
              "      <td>[{'quantity': 1, 'size': 'UK 14', 'price': '11...</td>\n",
              "      <td>2019-02-07 00:12:54.921</td>\n",
              "      <td>255437962</td>\n",
              "      <td>461e6074-6bf8-4fd1-b33a-7059fc90267b</td>\n",
              "      <td>59FC4AA451D66FGS</td>\n",
              "      <td>[{'size': 'UK 12', 'confidence': 2, 'bust': 1,...</td>\n",
              "      <td>2019-02-07T00:07:56.179Z</td>\n",
              "      <td>[5E2F4AA5CA626FGS, 59FC4AA451D66FGS]</td>\n",
              "    </tr>\n",
              "    <tr>\n",
              "      <th>521</th>\n",
              "      <td>[{'quantity': 1, 'size': 'UK 29R', 'price': '1...</td>\n",
              "      <td>2019-02-28 03:11:25.070</td>\n",
              "      <td>281998762</td>\n",
              "      <td>318fbb5a-d688-4e86-948f-3dc447979182</td>\n",
              "      <td>DE11AAA6271756GS</td>\n",
              "      <td>[{'size': 'EU 36', 'confidence': 2, 'bust': 0,...</td>\n",
              "      <td>2019-02-21T03:29:07.719Z</td>\n",
              "      <td>[CD904AA708A2A8GS, DE11AAA6271756GS]</td>\n",
              "    </tr>\n",
              "    <tr>\n",
              "      <th>522</th>\n",
              "      <td>[{'quantity': 1, 'size': 'UK 29R', 'price': '1...</td>\n",
              "      <td>2019-02-28 03:11:25.070</td>\n",
              "      <td>281998762</td>\n",
              "      <td>318fbb5a-d688-4e86-948f-3dc447979182</td>\n",
              "      <td>DE11AAA6271756GS</td>\n",
              "      <td>[{'size': 'EU 36', 'confidence': 2, 'bust': 0,...</td>\n",
              "      <td>2019-02-27T05:54:37.641Z</td>\n",
              "      <td>[CD904AA708A2A8GS, DE11AAA6271756GS]</td>\n",
              "    </tr>\n",
              "    <tr>\n",
              "      <th>523</th>\n",
              "      <td>[{'quantity': 1, 'size': 'UK 29R', 'price': '1...</td>\n",
              "      <td>2019-02-28 03:11:25.070</td>\n",
              "      <td>281998762</td>\n",
              "      <td>318fbb5a-d688-4e86-948f-3dc447979182</td>\n",
              "      <td>DE11AAA6271756GS</td>\n",
              "      <td>[{'size': 'EU 36', 'confidence': 2, 'bust': 0,...</td>\n",
              "      <td>2019-02-21T03:29:07.719Z</td>\n",
              "      <td>[CD904AA708A2A8GS, DE11AAA6271756GS]</td>\n",
              "    </tr>\n",
              "    <tr>\n",
              "      <th>524</th>\n",
              "      <td>[{'quantity': 1, 'size': 'UK 29R', 'price': '1...</td>\n",
              "      <td>2019-02-28 03:11:25.070</td>\n",
              "      <td>281998762</td>\n",
              "      <td>318fbb5a-d688-4e86-948f-3dc447979182</td>\n",
              "      <td>DE11AAA6271756GS</td>\n",
              "      <td>[{'size': 'EU 36', 'confidence': 2, 'bust': 0,...</td>\n",
              "      <td>2019-02-27T05:54:37.641Z</td>\n",
              "      <td>[CD904AA708A2A8GS, DE11AAA6271756GS]</td>\n",
              "    </tr>\n",
              "  </tbody>\n",
              "</table>\n",
              "<p>525 rows × 8 columns</p>\n",
              "</div>"
            ],
            "text/plain": [
              "                                              products  \\\n",
              "0    [{'quantity': 1, 'size': 'International S', 'p...   \n",
              "1    [{'quantity': 1, 'size': 'International L', 'p...   \n",
              "2    [{'quantity': 1, 'size': 'International L', 'p...   \n",
              "3    [{'quantity': 1, 'size': 'International L', 'p...   \n",
              "4    [{'quantity': 1, 'size': 'International L', 'p...   \n",
              "5    [{'quantity': 1, 'size': 'International L', 'p...   \n",
              "6    [{'quantity': 1, 'size': 'International L', 'p...   \n",
              "7    [{'quantity': 1, 'size': 'International L', 'p...   \n",
              "8    [{'quantity': 1, 'size': 'International S', 'p...   \n",
              "9    [{'quantity': 1, 'size': 'International S', 'p...   \n",
              "10   [{'quantity': 1, 'size': 'International S', 'p...   \n",
              "11   [{'quantity': 1, 'size': 'International S', 'p...   \n",
              "12   [{'quantity': 1, 'size': 'International S', 'p...   \n",
              "13   [{'quantity': 1, 'size': 'International S', 'p...   \n",
              "14   [{'quantity': 1, 'size': 'International S', 'p...   \n",
              "15   [{'quantity': 1, 'size': 'Waist x Length W2926...   \n",
              "16   [{'quantity': 1, 'size': 'Waist x Length W2926...   \n",
              "17   [{'quantity': 1, 'size': 'International L', 'p...   \n",
              "18   [{'quantity': 1, 'size': 'International L', 'p...   \n",
              "19   [{'quantity': 1, 'size': 'International L', 'p...   \n",
              "20   [{'quantity': 1, 'size': 'International XL', '...   \n",
              "21   [{'quantity': 1, 'size': 'International XL', '...   \n",
              "22   [{'quantity': 1, 'size': 'International XL', '...   \n",
              "23   [{'quantity': 1, 'size': 'International S', 'p...   \n",
              "24   [{'quantity': 1, 'size': 'International S', 'p...   \n",
              "25   [{'quantity': 1, 'size': 'International S', 'p...   \n",
              "26   [{'quantity': 1, 'size': 'International M', 'p...   \n",
              "27   [{'quantity': 1, 'size': 'International M', 'p...   \n",
              "28   [{'quantity': 1, 'size': 'International M', 'p...   \n",
              "29   [{'quantity': 1, 'size': 'International M', 'p...   \n",
              "..                                                 ...   \n",
              "495  [{'quantity': 1, 'size': 'International XL', '...   \n",
              "496  [{'quantity': 1, 'size': 'International S', 'p...   \n",
              "497  [{'quantity': 1, 'size': 'International S', 'p...   \n",
              "498  [{'quantity': 1, 'size': 'International S', 'p...   \n",
              "499  [{'quantity': 1, 'size': 'EU 38', 'price': '0'...   \n",
              "500  [{'quantity': 1, 'size': 'EU 38', 'price': '0'...   \n",
              "501  [{'quantity': 1, 'size': 'EU 38', 'price': '0'...   \n",
              "502  [{'quantity': 1, 'size': 'UK 8', 'price': '167...   \n",
              "503  [{'quantity': 1, 'size': 'UK 8', 'price': '167...   \n",
              "504  [{'quantity': 1, 'size': 'UK 8', 'price': '167...   \n",
              "505  [{'quantity': 1, 'size': 'International S/M', ...   \n",
              "506  [{'quantity': 1, 'size': 'International S/M', ...   \n",
              "507  [{'quantity': 1, 'size': 'International M', 'p...   \n",
              "508  [{'quantity': 1, 'size': 'International M', 'p...   \n",
              "509  [{'quantity': 1, 'size': 'International M', 'p...   \n",
              "510  [{'quantity': 1, 'size': 'International M', 'p...   \n",
              "511  [{'quantity': 1, 'size': 'International M', 'p...   \n",
              "512  [{'quantity': 1, 'size': 'International M', 'p...   \n",
              "513  [{'quantity': 1, 'size': 'International M', 'p...   \n",
              "514  [{'quantity': 1, 'size': 'International M', 'p...   \n",
              "515  [{'quantity': 1, 'size': 'International M', 'p...   \n",
              "516  [{'quantity': 1, 'size': 'International M', 'p...   \n",
              "517  [{'quantity': 1, 'size': 'International XS', '...   \n",
              "518  [{'quantity': 1, 'size': 'International XS', '...   \n",
              "519  [{'quantity': 1, 'size': 'International XS', '...   \n",
              "520  [{'quantity': 1, 'size': 'UK 14', 'price': '11...   \n",
              "521  [{'quantity': 1, 'size': 'UK 29R', 'price': '1...   \n",
              "522  [{'quantity': 1, 'size': 'UK 29R', 'price': '1...   \n",
              "523  [{'quantity': 1, 'size': 'UK 29R', 'price': '1...   \n",
              "524  [{'quantity': 1, 'size': 'UK 29R', 'price': '1...   \n",
              "\n",
              "                  timestamp transaction                                   uid  \\\n",
              "0   2019-02-01 02:29:41.281   236742962  3528be91-d6a2-4ec6-b26d-076dcc8ee15e   \n",
              "1   2019-02-03 07:02:11.840   221356962  0c349735-c293-4731-ae90-451b8a1da885   \n",
              "2   2019-02-03 07:02:11.840   221356962  0c349735-c293-4731-ae90-451b8a1da885   \n",
              "3   2019-02-03 07:02:11.840   221356962  0c349735-c293-4731-ae90-451b8a1da885   \n",
              "4   2019-02-03 07:02:11.840   221356962  0c349735-c293-4731-ae90-451b8a1da885   \n",
              "5   2019-02-03 07:02:11.840   221356962  0c349735-c293-4731-ae90-451b8a1da885   \n",
              "6   2019-02-03 07:02:11.840   221356962  0c349735-c293-4731-ae90-451b8a1da885   \n",
              "7   2019-02-03 07:02:11.840   221356962  0c349735-c293-4731-ae90-451b8a1da885   \n",
              "8   2019-02-18 14:27:37.607   251985862  0c349735-c293-4731-ae90-451b8a1da885   \n",
              "9   2019-02-18 14:27:37.607   251985862  0c349735-c293-4731-ae90-451b8a1da885   \n",
              "10  2019-02-18 14:27:37.607   251985862  0c349735-c293-4731-ae90-451b8a1da885   \n",
              "11  2019-02-18 14:27:37.607   251985862  0c349735-c293-4731-ae90-451b8a1da885   \n",
              "12  2019-02-18 14:27:37.607   251985862  0c349735-c293-4731-ae90-451b8a1da885   \n",
              "13  2019-02-18 14:27:37.607   251985862  0c349735-c293-4731-ae90-451b8a1da885   \n",
              "14  2019-02-18 14:27:37.607   251985862  0c349735-c293-4731-ae90-451b8a1da885   \n",
              "15  2019-02-06 19:18:41.887   251917962  0c349735-c293-4731-ae90-451b8a1da885   \n",
              "16  2019-02-06 19:18:41.887   251917962  0c349735-c293-4731-ae90-451b8a1da885   \n",
              "17  2019-02-04 19:46:27.489   273448962  65e57b99-d3c6-433d-93f0-6550f721260e   \n",
              "18  2019-02-04 19:46:27.489   273448962  65e57b99-d3c6-433d-93f0-6550f721260e   \n",
              "19  2019-02-04 19:46:27.489   273448962  65e57b99-d3c6-433d-93f0-6550f721260e   \n",
              "20  2019-02-11 21:03:28.462   221114862  65e57b99-d3c6-433d-93f0-6550f721260e   \n",
              "21  2019-02-11 21:03:28.462   221114862  65e57b99-d3c6-433d-93f0-6550f721260e   \n",
              "22  2019-02-11 21:03:28.462   221114862  65e57b99-d3c6-433d-93f0-6550f721260e   \n",
              "23  2019-02-21 04:54:33.834   244983862  282a5d73-a9f3-41ac-913c-c289586bba0b   \n",
              "24  2019-02-21 04:54:33.834   244983862  282a5d73-a9f3-41ac-913c-c289586bba0b   \n",
              "25  2019-02-21 04:54:33.834   244983862  282a5d73-a9f3-41ac-913c-c289586bba0b   \n",
              "26  2019-02-06 10:56:03.886   291477962  385d88cf-4c07-4238-afae-2e30e011be46   \n",
              "27  2019-02-06 10:56:03.886   291477962  385d88cf-4c07-4238-afae-2e30e011be46   \n",
              "28  2019-02-06 10:56:03.886   291477962  385d88cf-4c07-4238-afae-2e30e011be46   \n",
              "29  2019-02-06 10:56:03.886   291477962  385d88cf-4c07-4238-afae-2e30e011be46   \n",
              "..                      ...         ...                                   ...   \n",
              "495 2019-02-27 14:38:20.442   237548762  eac6dc87-de2b-468e-a4a9-b82f73bd3330   \n",
              "496 2019-02-27 11:02:00.180   283639762  e0717a0b-06a6-48eb-bfd0-921b3e44c7fe   \n",
              "497 2019-02-27 11:02:00.180   283639762  e0717a0b-06a6-48eb-bfd0-921b3e44c7fe   \n",
              "498 2019-02-27 11:02:00.180   283639762  e0717a0b-06a6-48eb-bfd0-921b3e44c7fe   \n",
              "499 2019-02-14 06:11:42.066   293816862  f20f9aff-650d-49d9-9e6a-f692408dd254   \n",
              "500 2019-02-14 06:11:42.066   293816862  f20f9aff-650d-49d9-9e6a-f692408dd254   \n",
              "501 2019-02-14 06:11:42.066   293816862  f20f9aff-650d-49d9-9e6a-f692408dd254   \n",
              "502 2019-02-01 01:33:19.735   282242962  f20f9aff-650d-49d9-9e6a-f692408dd254   \n",
              "503 2019-02-01 01:33:19.735   282242962  f20f9aff-650d-49d9-9e6a-f692408dd254   \n",
              "504 2019-02-01 01:33:19.735   282242962  f20f9aff-650d-49d9-9e6a-f692408dd254   \n",
              "505 2019-02-20 04:09:25.941   217451862  068dbebc-aced-432d-9ef5-bf370ebbfada   \n",
              "506 2019-02-20 04:09:25.941   217451862  068dbebc-aced-432d-9ef5-bf370ebbfada   \n",
              "507 2019-02-20 07:02:15.916   295211862  487e5b09-718a-47a2-a1b3-f623533b69e7   \n",
              "508 2019-02-20 07:02:15.916   295211862  487e5b09-718a-47a2-a1b3-f623533b69e7   \n",
              "509 2019-02-20 07:02:15.916   295211862  487e5b09-718a-47a2-a1b3-f623533b69e7   \n",
              "510 2019-02-20 07:02:15.916   295211862  487e5b09-718a-47a2-a1b3-f623533b69e7   \n",
              "511 2019-02-20 07:02:15.916   295211862  487e5b09-718a-47a2-a1b3-f623533b69e7   \n",
              "512 2019-02-20 07:02:15.916   295211862  487e5b09-718a-47a2-a1b3-f623533b69e7   \n",
              "513 2019-02-20 07:02:15.916   295211862  487e5b09-718a-47a2-a1b3-f623533b69e7   \n",
              "514 2019-02-20 07:02:15.916   295211862  487e5b09-718a-47a2-a1b3-f623533b69e7   \n",
              "515 2019-02-20 07:02:15.916   295211862  487e5b09-718a-47a2-a1b3-f623533b69e7   \n",
              "516 2019-02-20 07:02:15.916   295211862  487e5b09-718a-47a2-a1b3-f623533b69e7   \n",
              "517 2019-02-05 08:17:21.520   266478962  58d6fb85-7f8e-4835-8507-d558334a0b53   \n",
              "518 2019-02-05 08:17:21.520   266478962  58d6fb85-7f8e-4835-8507-d558334a0b53   \n",
              "519 2019-02-05 08:17:21.520   266478962  58d6fb85-7f8e-4835-8507-d558334a0b53   \n",
              "520 2019-02-07 00:12:54.921   255437962  461e6074-6bf8-4fd1-b33a-7059fc90267b   \n",
              "521 2019-02-28 03:11:25.070   281998762  318fbb5a-d688-4e86-948f-3dc447979182   \n",
              "522 2019-02-28 03:11:25.070   281998762  318fbb5a-d688-4e86-948f-3dc447979182   \n",
              "523 2019-02-28 03:11:25.070   281998762  318fbb5a-d688-4e86-948f-3dc447979182   \n",
              "524 2019-02-28 03:11:25.070   281998762  318fbb5a-d688-4e86-948f-3dc447979182   \n",
              "\n",
              "              product                                   recommended_size  \\\n",
              "0    A00F7AA5E23E13GS  [{'size': 'INT S', 'confidence': 4, 'bust': 0,...   \n",
              "1    BAB9CAA0751876GS  [{'size': 'INT S', 'confidence': 2, 'bust': 5,...   \n",
              "2    BAB9CAA0751876GS  [{'size': 'INT S', 'confidence': 2, 'bust': 5,...   \n",
              "3    BAB9CAA0751876GS  [{'size': 'INT S', 'confidence': 2, 'bust': 5,...   \n",
              "4    BAB9CAA0751876GS  [{'size': 'INT S', 'confidence': 2, 'bust': 5,...   \n",
              "5    BAB9CAA0751876GS  [{'size': 'INT S', 'confidence': 2, 'bust': 5,...   \n",
              "6    BAB9CAA0751876GS  [{'size': 'INT S', 'confidence': 2, 'bust': 5,...   \n",
              "7    BAB9CAA0751876GS  [{'size': 'INT S', 'confidence': 2, 'bust': 5,...   \n",
              "8    4E0D7AAB686A0BGS  [{'size': 'INT S', 'confidence': 2, 'bust': 5,...   \n",
              "9    4E0D7AAB686A0BGS  [{'size': 'INT S', 'confidence': 2, 'bust': 5,...   \n",
              "10   4E0D7AAB686A0BGS  [{'size': 'INT S', 'confidence': 2, 'bust': 5,...   \n",
              "11   4E0D7AAB686A0BGS  [{'size': 'INT S', 'confidence': 2, 'bust': 5,...   \n",
              "12   4E0D7AAB686A0BGS  [{'size': 'INT S', 'confidence': 2, 'bust': 5,...   \n",
              "13   4E0D7AAB686A0BGS  [{'size': 'INT S', 'confidence': 2, 'bust': 5,...   \n",
              "14   4E0D7AAB686A0BGS  [{'size': 'INT S', 'confidence': 2, 'bust': 5,...   \n",
              "15   9C659AA4AED569GS  [{'size': '28', 'confidence': 3, 'bust': 0, 'w...   \n",
              "16   9C659AA4AED569GS  [{'size': '28', 'confidence': 3, 'bust': 0, 'w...   \n",
              "17   625B4AA0F3327BGS  [{'size': 'INT L', 'confidence': 3, 'bust': 2,...   \n",
              "18   625B4AA0F3327BGS  [{'size': 'INT L', 'confidence': 3, 'bust': 2,...   \n",
              "19   625B4AA0F3327BGS  [{'size': 'INT L', 'confidence': 3, 'bust': 2,...   \n",
              "20   625B4AA0F3327BGS  [{'size': 'INT L', 'confidence': 3, 'bust': 2,...   \n",
              "21   625B4AA0F3327BGS  [{'size': 'INT L', 'confidence': 3, 'bust': 2,...   \n",
              "22   625B4AA0F3327BGS  [{'size': 'INT L', 'confidence': 3, 'bust': 2,...   \n",
              "23   1F3CDAA6CE7A94GS  [{'size': 'UK 8', 'confidence': 2, 'bust': 1, ...   \n",
              "24   1F3CDAA6CE7A94GS  [{'size': 'UK 8', 'confidence': 2, 'bust': 1, ...   \n",
              "25   B2957AAC19B6E2GS  [{'size': 'INT S', 'confidence': 3, 'bust': 1,...   \n",
              "26   47158AAD1878D9GS  [{'size': 'INT M', 'confidence': 2, 'bust': 5,...   \n",
              "27   47158AAD1878D9GS  [{'size': 'INT M', 'confidence': 2, 'bust': 5,...   \n",
              "28   47158AAD1878D9GS  [{'size': 'INT M', 'confidence': 2, 'bust': 5,...   \n",
              "29   B0420AA4264AEBGS  [{'size': 'INT M', 'confidence': 4, 'bust': 0,...   \n",
              "..                ...                                                ...   \n",
              "495  967BAAAA1237AFGS  [{'size': 'INT L', 'confidence': 2, 'bust': 1,...   \n",
              "496  E584FAAAFEC6C8GS  [{'size': 'INT XS', 'confidence': 3, 'bust': 0...   \n",
              "497  E584FAAAFEC6C8GS  [{'size': 'INT XS', 'confidence': 3, 'bust': 0...   \n",
              "498  E584FAAAFEC6C8GS  [{'size': 'INT XS', 'confidence': 3, 'bust': 0...   \n",
              "499  85089AACA279C5GS  [{'size': 'EU 36', 'confidence': 3, 'bust': 0,...   \n",
              "500  85089AACA279C5GS  [{'size': 'EU 36', 'confidence': 3, 'bust': 0,...   \n",
              "501  85089AACA279C5GS  [{'size': 'EU 36', 'confidence': 3, 'bust': 0,...   \n",
              "502  3DAA0AABEBC5BDGS  [{'size': 'UK 10', 'confidence': 4, 'bust': 2,...   \n",
              "503  3DAA0AABEBC5BDGS  [{'size': 'UK 10', 'confidence': 4, 'bust': 2,...   \n",
              "504  3DAA0AABEBC5BDGS  [{'size': 'UK 10', 'confidence': 4, 'bust': 2,...   \n",
              "505  C214DAA3DE80DAGS  [{'size': 'UK 8', 'confidence': 2, 'bust': 5, ...   \n",
              "506  C214DAA3DE80DAGS  [{'size': 'UK 8', 'confidence': 2, 'bust': 5, ...   \n",
              "507  9B51DAA1F57F4AGS  [{'size': 'INT S', 'confidence': 4, 'bust': 3,...   \n",
              "508  F0DC3AA143F799GS  [{'size': 'INT S', 'confidence': 2, 'bust': 5,...   \n",
              "509  94B5BAA6FC598BGS  [{'size': 'INT XS', 'confidence': 4, 'bust': 3...   \n",
              "510  94B5BAA6FC598BGS  [{'size': 'INT XS', 'confidence': 4, 'bust': 3...   \n",
              "511  9B51DAA1F57F4AGS  [{'size': 'INT S', 'confidence': 4, 'bust': 3,...   \n",
              "512  F0DC3AA143F799GS  [{'size': 'INT S', 'confidence': 2, 'bust': 5,...   \n",
              "513  94B5BAA6FC598BGS  [{'size': 'INT XS', 'confidence': 4, 'bust': 3...   \n",
              "514  94B5BAA6FC598BGS  [{'size': 'INT XS', 'confidence': 4, 'bust': 3...   \n",
              "515  F0DC3AA143F799GS  [{'size': 'INT S', 'confidence': 4, 'bust': 3,...   \n",
              "516  9B51DAA1F57F4AGS  [{'size': 'INT S', 'confidence': 2, 'bust': 5,...   \n",
              "517  E7B9AAA0DE8322GS  [{'size': 'INT XS', 'confidence': 5, 'bust': 0...   \n",
              "518  E7B9AAA0DE8322GS  [{'size': 'INT XS', 'confidence': 5, 'bust': 0...   \n",
              "519  E7B9AAA0DE8322GS  [{'size': 'INT XS', 'confidence': 5, 'bust': 0...   \n",
              "520  59FC4AA451D66FGS  [{'size': 'UK 12', 'confidence': 2, 'bust': 1,...   \n",
              "521  DE11AAA6271756GS  [{'size': 'EU 36', 'confidence': 2, 'bust': 0,...   \n",
              "522  DE11AAA6271756GS  [{'size': 'EU 36', 'confidence': 2, 'bust': 0,...   \n",
              "523  DE11AAA6271756GS  [{'size': 'EU 36', 'confidence': 2, 'bust': 0,...   \n",
              "524  DE11AAA6271756GS  [{'size': 'EU 36', 'confidence': 2, 'bust': 0,...   \n",
              "\n",
              "                         time  \\\n",
              "0    2019-02-01T02:22:00.260Z   \n",
              "1    2019-02-01T15:39:50.702Z   \n",
              "2    2019-02-01T15:41:32.259Z   \n",
              "3    2019-02-03T07:00:07.605Z   \n",
              "4    2019-02-17T00:25:07.689Z   \n",
              "5    2019-02-01T15:44:13.646Z   \n",
              "6    2019-02-01T15:44:32.208Z   \n",
              "7    2019-02-02T00:38:02.997Z   \n",
              "8    2019-02-06T12:21:25.174Z   \n",
              "9    2019-02-16T15:28:59.347Z   \n",
              "10   2019-02-16T15:28:02.452Z   \n",
              "11   2019-02-17T00:27:00.147Z   \n",
              "12   2019-02-06T15:22:57.836Z   \n",
              "13   2019-02-06T19:35:43.435Z   \n",
              "14   2019-02-17T00:27:28.246Z   \n",
              "15   2019-02-07T13:01:30.902Z   \n",
              "16   2019-02-06T15:31:14.574Z   \n",
              "17   2019-02-11T21:00:46.737Z   \n",
              "18   2019-02-19T16:39:53.344Z   \n",
              "19   2019-02-19T16:39:53.344Z   \n",
              "20   2019-02-11T21:00:46.737Z   \n",
              "21   2019-02-19T16:39:53.344Z   \n",
              "22   2019-02-19T16:39:53.344Z   \n",
              "23   2019-02-21T04:46:48.299Z   \n",
              "24   2019-02-21T04:46:48.299Z   \n",
              "25   2019-02-27T02:09:16.234Z   \n",
              "26   2019-02-06T10:26:00.937Z   \n",
              "27   2019-02-06T10:44:06.174Z   \n",
              "28   2019-02-06T10:35:15.046Z   \n",
              "29   2019-02-07T05:44:11.679Z   \n",
              "..                        ...   \n",
              "495  2019-02-27T14:19:47.538Z   \n",
              "496  2019-02-27T15:52:28.393Z   \n",
              "497  2019-02-27T15:52:28.393Z   \n",
              "498  2019-02-27T10:55:44.658Z   \n",
              "499  2019-02-14T05:35:22.674Z   \n",
              "500  2019-02-11T01:21:07.990Z   \n",
              "501  2019-02-14T05:34:59.047Z   \n",
              "502  2019-02-01T01:27:32.416Z   \n",
              "503  2019-02-01T01:21:50.149Z   \n",
              "504  2019-02-01T01:25:48.479Z   \n",
              "505  2019-02-20T04:05:11.336Z   \n",
              "506  2019-02-20T04:05:11.336Z   \n",
              "507  2019-02-20T05:46:06.969Z   \n",
              "508  2019-02-19T01:33:02.001Z   \n",
              "509  2019-02-22T05:23:56.487Z   \n",
              "510  2019-02-19T07:31:21.040Z   \n",
              "511  2019-02-20T05:46:06.969Z   \n",
              "512  2019-02-19T01:33:02.001Z   \n",
              "513  2019-02-19T07:31:21.040Z   \n",
              "514  2019-02-22T05:23:56.487Z   \n",
              "515  2019-02-20T05:48:09.369Z   \n",
              "516  2019-02-19T01:31:26.364Z   \n",
              "517  2019-02-05T08:11:25.633Z   \n",
              "518  2019-02-05T07:51:02.636Z   \n",
              "519  2019-02-05T07:51:14.267Z   \n",
              "520  2019-02-07T00:07:56.179Z   \n",
              "521  2019-02-21T03:29:07.719Z   \n",
              "522  2019-02-27T05:54:37.641Z   \n",
              "523  2019-02-21T03:29:07.719Z   \n",
              "524  2019-02-27T05:54:37.641Z   \n",
              "\n",
              "                                       trans_productid  \n",
              "0    [994DBAA2817BC8GS, A00F7AA5E23E13GS, 61686AAA4...  \n",
              "1    [CH672AA0KGM2PH, BAB9CAA0751876GS, 759D2AA21B2...  \n",
              "2    [CH672AA0KGM2PH, BAB9CAA0751876GS, 759D2AA21B2...  \n",
              "3    [CH672AA0KGM2PH, BAB9CAA0751876GS, 759D2AA21B2...  \n",
              "4    [CH672AA0KGM2PH, BAB9CAA0751876GS, 759D2AA21B2...  \n",
              "5    [CH672AA0KGM2PH, BAB9CAA0751876GS, 759D2AA21B2...  \n",
              "6    [CH672AA0KGM2PH, BAB9CAA0751876GS, 759D2AA21B2...  \n",
              "7    [CH672AA0KGM2PH, BAB9CAA0751876GS, 759D2AA21B2...  \n",
              "8    [4E0D7AAB686A0BGS, 39FFDAA3A64B28GS, C71A3AA99...  \n",
              "9    [4E0D7AAB686A0BGS, 39FFDAA3A64B28GS, C71A3AA99...  \n",
              "10   [4E0D7AAB686A0BGS, 39FFDAA3A64B28GS, C71A3AA99...  \n",
              "11   [4E0D7AAB686A0BGS, 39FFDAA3A64B28GS, C71A3AA99...  \n",
              "12   [4E0D7AAB686A0BGS, 39FFDAA3A64B28GS, C71A3AA99...  \n",
              "13   [4E0D7AAB686A0BGS, 39FFDAA3A64B28GS, C71A3AA99...  \n",
              "14   [4E0D7AAB686A0BGS, 39FFDAA3A64B28GS, C71A3AA99...  \n",
              "15                                    9C659AA4AED569GS  \n",
              "16                                    9C659AA4AED569GS  \n",
              "17                                    625B4AA0F3327BGS  \n",
              "18                                    625B4AA0F3327BGS  \n",
              "19                                    625B4AA0F3327BGS  \n",
              "20                                    625B4AA0F3327BGS  \n",
              "21                                    625B4AA0F3327BGS  \n",
              "22                                    625B4AA0F3327BGS  \n",
              "23                [B2957AAC19B6E2GS, 1F3CDAA6CE7A94GS]  \n",
              "24                [B2957AAC19B6E2GS, 1F3CDAA6CE7A94GS]  \n",
              "25                [B2957AAC19B6E2GS, 1F3CDAA6CE7A94GS]  \n",
              "26   [0EF77AAE6D1367GS, 47158AAD1878D9GS, B0420AA42...  \n",
              "27   [0EF77AAE6D1367GS, 47158AAD1878D9GS, B0420AA42...  \n",
              "28   [0EF77AAE6D1367GS, 47158AAD1878D9GS, B0420AA42...  \n",
              "29   [0EF77AAE6D1367GS, 47158AAD1878D9GS, B0420AA42...  \n",
              "..                                                 ...  \n",
              "495                                   967BAAAA1237AFGS  \n",
              "496                                   E584FAAAFEC6C8GS  \n",
              "497                                   E584FAAAFEC6C8GS  \n",
              "498                                   E584FAAAFEC6C8GS  \n",
              "499               [85089AACA279C5GS, C14D4AA6855640GS]  \n",
              "500               [85089AACA279C5GS, C14D4AA6855640GS]  \n",
              "501               [85089AACA279C5GS, C14D4AA6855640GS]  \n",
              "502                                   3DAA0AABEBC5BDGS  \n",
              "503                                   3DAA0AABEBC5BDGS  \n",
              "504                                   3DAA0AABEBC5BDGS  \n",
              "505  [C214DAA3DE80DAGS, 5FA0EAAA457C99GS, 43845AA5F...  \n",
              "506  [C214DAA3DE80DAGS, 5FA0EAAA457C99GS, 43845AA5F...  \n",
              "507  [F0DC3AA143F799GS, 94B5BAA6FC598BGS, 9B51DAA1F...  \n",
              "508  [F0DC3AA143F799GS, 94B5BAA6FC598BGS, 9B51DAA1F...  \n",
              "509  [F0DC3AA143F799GS, 94B5BAA6FC598BGS, 9B51DAA1F...  \n",
              "510  [F0DC3AA143F799GS, 94B5BAA6FC598BGS, 9B51DAA1F...  \n",
              "511  [F0DC3AA143F799GS, 94B5BAA6FC598BGS, 9B51DAA1F...  \n",
              "512  [F0DC3AA143F799GS, 94B5BAA6FC598BGS, 9B51DAA1F...  \n",
              "513  [F0DC3AA143F799GS, 94B5BAA6FC598BGS, 9B51DAA1F...  \n",
              "514  [F0DC3AA143F799GS, 94B5BAA6FC598BGS, 9B51DAA1F...  \n",
              "515  [F0DC3AA143F799GS, 94B5BAA6FC598BGS, 9B51DAA1F...  \n",
              "516  [F0DC3AA143F799GS, 94B5BAA6FC598BGS, 9B51DAA1F...  \n",
              "517                                   E7B9AAA0DE8322GS  \n",
              "518                                   E7B9AAA0DE8322GS  \n",
              "519                                   E7B9AAA0DE8322GS  \n",
              "520               [5E2F4AA5CA626FGS, 59FC4AA451D66FGS]  \n",
              "521               [CD904AA708A2A8GS, DE11AAA6271756GS]  \n",
              "522               [CD904AA708A2A8GS, DE11AAA6271756GS]  \n",
              "523               [CD904AA708A2A8GS, DE11AAA6271756GS]  \n",
              "524               [CD904AA708A2A8GS, DE11AAA6271756GS]  \n",
              "\n",
              "[525 rows x 8 columns]"
            ]
          },
          "metadata": {
            "tags": []
          },
          "execution_count": 260
        }
      ]
    },
    {
      "cell_type": "code",
      "metadata": {
        "id": "-nX-8MqYE3k_",
        "colab_type": "code",
        "colab": {}
      },
      "source": [
        "new_df.drop('time', axis = 1, inplace = True )"
      ],
      "execution_count": 0,
      "outputs": []
    },
    {
      "cell_type": "code",
      "metadata": {
        "id": "U1HO3VbmFFp1",
        "colab_type": "code",
        "outputId": "f794e243-de92-4476-861f-61d985289a6c",
        "colab": {
          "base_uri": "https://localhost:8080/",
          "height": 374
        }
      },
      "source": [
        "new_df.head()"
      ],
      "execution_count": 0,
      "outputs": [
        {
          "output_type": "execute_result",
          "data": {
            "text/html": [
              "<div>\n",
              "<style scoped>\n",
              "    .dataframe tbody tr th:only-of-type {\n",
              "        vertical-align: middle;\n",
              "    }\n",
              "\n",
              "    .dataframe tbody tr th {\n",
              "        vertical-align: top;\n",
              "    }\n",
              "\n",
              "    .dataframe thead th {\n",
              "        text-align: right;\n",
              "    }\n",
              "</style>\n",
              "<table border=\"1\" class=\"dataframe\">\n",
              "  <thead>\n",
              "    <tr style=\"text-align: right;\">\n",
              "      <th></th>\n",
              "      <th>products</th>\n",
              "      <th>timestamp</th>\n",
              "      <th>transaction</th>\n",
              "      <th>uid</th>\n",
              "      <th>product</th>\n",
              "      <th>recommended_size</th>\n",
              "      <th>trans_productid</th>\n",
              "    </tr>\n",
              "  </thead>\n",
              "  <tbody>\n",
              "    <tr>\n",
              "      <th>0</th>\n",
              "      <td>[{'quantity': 1, 'size': 'International S', 'p...</td>\n",
              "      <td>2019-02-01 02:29:41.281</td>\n",
              "      <td>236742962</td>\n",
              "      <td>3528be91-d6a2-4ec6-b26d-076dcc8ee15e</td>\n",
              "      <td>A00F7AA5E23E13GS</td>\n",
              "      <td>[{'size': 'INT S', 'confidence': 4, 'bust': 0,...</td>\n",
              "      <td>[994DBAA2817BC8GS, A00F7AA5E23E13GS, 61686AAA4...</td>\n",
              "    </tr>\n",
              "    <tr>\n",
              "      <th>1</th>\n",
              "      <td>[{'quantity': 1, 'size': 'International L', 'p...</td>\n",
              "      <td>2019-02-03 07:02:11.840</td>\n",
              "      <td>221356962</td>\n",
              "      <td>0c349735-c293-4731-ae90-451b8a1da885</td>\n",
              "      <td>BAB9CAA0751876GS</td>\n",
              "      <td>[{'size': 'INT S', 'confidence': 2, 'bust': 5,...</td>\n",
              "      <td>[CH672AA0KGM2PH, BAB9CAA0751876GS, 759D2AA21B2...</td>\n",
              "    </tr>\n",
              "    <tr>\n",
              "      <th>2</th>\n",
              "      <td>[{'quantity': 1, 'size': 'International L', 'p...</td>\n",
              "      <td>2019-02-03 07:02:11.840</td>\n",
              "      <td>221356962</td>\n",
              "      <td>0c349735-c293-4731-ae90-451b8a1da885</td>\n",
              "      <td>BAB9CAA0751876GS</td>\n",
              "      <td>[{'size': 'INT S', 'confidence': 2, 'bust': 5,...</td>\n",
              "      <td>[CH672AA0KGM2PH, BAB9CAA0751876GS, 759D2AA21B2...</td>\n",
              "    </tr>\n",
              "    <tr>\n",
              "      <th>3</th>\n",
              "      <td>[{'quantity': 1, 'size': 'International L', 'p...</td>\n",
              "      <td>2019-02-03 07:02:11.840</td>\n",
              "      <td>221356962</td>\n",
              "      <td>0c349735-c293-4731-ae90-451b8a1da885</td>\n",
              "      <td>BAB9CAA0751876GS</td>\n",
              "      <td>[{'size': 'INT S', 'confidence': 2, 'bust': 5,...</td>\n",
              "      <td>[CH672AA0KGM2PH, BAB9CAA0751876GS, 759D2AA21B2...</td>\n",
              "    </tr>\n",
              "    <tr>\n",
              "      <th>4</th>\n",
              "      <td>[{'quantity': 1, 'size': 'International L', 'p...</td>\n",
              "      <td>2019-02-03 07:02:11.840</td>\n",
              "      <td>221356962</td>\n",
              "      <td>0c349735-c293-4731-ae90-451b8a1da885</td>\n",
              "      <td>BAB9CAA0751876GS</td>\n",
              "      <td>[{'size': 'INT S', 'confidence': 2, 'bust': 5,...</td>\n",
              "      <td>[CH672AA0KGM2PH, BAB9CAA0751876GS, 759D2AA21B2...</td>\n",
              "    </tr>\n",
              "  </tbody>\n",
              "</table>\n",
              "</div>"
            ],
            "text/plain": [
              "                                            products               timestamp  \\\n",
              "0  [{'quantity': 1, 'size': 'International S', 'p... 2019-02-01 02:29:41.281   \n",
              "1  [{'quantity': 1, 'size': 'International L', 'p... 2019-02-03 07:02:11.840   \n",
              "2  [{'quantity': 1, 'size': 'International L', 'p... 2019-02-03 07:02:11.840   \n",
              "3  [{'quantity': 1, 'size': 'International L', 'p... 2019-02-03 07:02:11.840   \n",
              "4  [{'quantity': 1, 'size': 'International L', 'p... 2019-02-03 07:02:11.840   \n",
              "\n",
              "  transaction                                   uid           product  \\\n",
              "0   236742962  3528be91-d6a2-4ec6-b26d-076dcc8ee15e  A00F7AA5E23E13GS   \n",
              "1   221356962  0c349735-c293-4731-ae90-451b8a1da885  BAB9CAA0751876GS   \n",
              "2   221356962  0c349735-c293-4731-ae90-451b8a1da885  BAB9CAA0751876GS   \n",
              "3   221356962  0c349735-c293-4731-ae90-451b8a1da885  BAB9CAA0751876GS   \n",
              "4   221356962  0c349735-c293-4731-ae90-451b8a1da885  BAB9CAA0751876GS   \n",
              "\n",
              "                                    recommended_size  \\\n",
              "0  [{'size': 'INT S', 'confidence': 4, 'bust': 0,...   \n",
              "1  [{'size': 'INT S', 'confidence': 2, 'bust': 5,...   \n",
              "2  [{'size': 'INT S', 'confidence': 2, 'bust': 5,...   \n",
              "3  [{'size': 'INT S', 'confidence': 2, 'bust': 5,...   \n",
              "4  [{'size': 'INT S', 'confidence': 2, 'bust': 5,...   \n",
              "\n",
              "                                     trans_productid  \n",
              "0  [994DBAA2817BC8GS, A00F7AA5E23E13GS, 61686AAA4...  \n",
              "1  [CH672AA0KGM2PH, BAB9CAA0751876GS, 759D2AA21B2...  \n",
              "2  [CH672AA0KGM2PH, BAB9CAA0751876GS, 759D2AA21B2...  \n",
              "3  [CH672AA0KGM2PH, BAB9CAA0751876GS, 759D2AA21B2...  \n",
              "4  [CH672AA0KGM2PH, BAB9CAA0751876GS, 759D2AA21B2...  "
            ]
          },
          "metadata": {
            "tags": []
          },
          "execution_count": 263
        }
      ]
    },
    {
      "cell_type": "code",
      "metadata": {
        "id": "eT6yeHLtGZdn",
        "colab_type": "code",
        "colab": {}
      },
      "source": [
        "writer = pd.ExcelWriter('total.xlsx',engine='xlsxwriter',options={'strings_to_urls': False})\n",
        "new_df.to_excel(writer,'Sheet1')\n",
        "writer.save()"
      ],
      "execution_count": 0,
      "outputs": []
    },
    {
      "cell_type": "code",
      "metadata": {
        "id": "VRUTPYZafznG",
        "colab_type": "code",
        "outputId": "3ccc3b2d-5ca3-4094-8799-a350a445a7a5",
        "colab": {
          "base_uri": "https://localhost:8080/",
          "height": 34
        }
      },
      "source": [
        "mergeddf.shape"
      ],
      "execution_count": 0,
      "outputs": [
        {
          "output_type": "execute_result",
          "data": {
            "text/plain": [
              "(11963, 8)"
            ]
          },
          "metadata": {
            "tags": []
          },
          "execution_count": 66
        }
      ]
    },
    {
      "cell_type": "code",
      "metadata": {
        "id": "YvMSp8wTPr6R",
        "colab_type": "code",
        "outputId": "29439303-fbaf-4b51-f891-ca668021a9a2",
        "colab": {
          "base_uri": "https://localhost:8080/",
          "height": 34
        }
      },
      "source": [
        "#duplicates removed from total.xlsx\n",
        "total_df = pd.read_excel('total.xlsx', 'Sheet1')\n",
        "total_df.shape"
      ],
      "execution_count": 0,
      "outputs": [
        {
          "output_type": "execute_result",
          "data": {
            "text/plain": [
              "(117, 7)"
            ]
          },
          "metadata": {
            "tags": []
          },
          "execution_count": 278
        }
      ]
    },
    {
      "cell_type": "code",
      "metadata": {
        "id": "kiAppgEmbNQ7",
        "colab_type": "code",
        "outputId": "4666fe98-d520-4338-d9f5-c4146f0648a7",
        "colab": {
          "base_uri": "https://localhost:8080/",
          "height": 34
        }
      },
      "source": [
        "#order numbers which are common to both transaction and returns dataframes\n",
        "s = set(total_df['transaction']).intersection(set(return_df['Order_nr']))\n",
        "print (\"total number of returns \" + \" \"+ str(len(s)))"
      ],
      "execution_count": 0,
      "outputs": [
        {
          "output_type": "stream",
          "text": [
            "total number of returns  21\n"
          ],
          "name": "stdout"
        }
      ]
    },
    {
      "cell_type": "markdown",
      "metadata": {
        "id": "ub7EmLWdgT_A",
        "colab_type": "text"
      },
      "source": [
        "###A size recommendation was made and the product was purchased \n",
        "number of products sold = 117\n",
        "total returns = 21\n",
        "size & fit returns rate = 117/21"
      ]
    },
    {
      "cell_type": "code",
      "metadata": {
        "id": "kHylrOU4gLFc",
        "colab_type": "code",
        "outputId": "e4e619d6-7630-443d-818a-afffe8a0ea93",
        "colab": {
          "base_uri": "https://localhost:8080/",
          "height": 34
        }
      },
      "source": [
        "117/21"
      ],
      "execution_count": 0,
      "outputs": [
        {
          "output_type": "execute_result",
          "data": {
            "text/plain": [
              "5.571428571428571"
            ]
          },
          "metadata": {
            "tags": []
          },
          "execution_count": 313
        }
      ]
    },
    {
      "cell_type": "code",
      "metadata": {
        "id": "h7mNz4hBAQsF",
        "colab_type": "code",
        "outputId": "5ae8d79f-2c63-4107-a75a-b94864f4a175",
        "colab": {
          "base_uri": "https://localhost:8080/",
          "height": 34
        }
      },
      "source": [
        "total_df.shape"
      ],
      "execution_count": 0,
      "outputs": [
        {
          "output_type": "execute_result",
          "data": {
            "text/plain": [
              "(117, 7)"
            ]
          },
          "metadata": {
            "tags": []
          },
          "execution_count": 316
        }
      ]
    },
    {
      "cell_type": "markdown",
      "metadata": {
        "id": "bJl6MEw9HuI8",
        "colab_type": "text"
      },
      "source": [
        "###34 rows containing \"recommended = false\"\" only were removed from totals.xlsx\n",
        "###** International was replaced with INT**"
      ]
    },
    {
      "cell_type": "code",
      "metadata": {
        "id": "OojgRzC1IRqU",
        "colab_type": "code",
        "outputId": "74102a17-75d7-4b05-bcc1-730d4cc70f83",
        "colab": {
          "base_uri": "https://localhost:8080/",
          "height": 34
        }
      },
      "source": [
        "import pandas as pd\n",
        "new_df = pd.read_excel('total_new.xlsx')\n",
        "new_df.shape"
      ],
      "execution_count": 0,
      "outputs": [
        {
          "output_type": "execute_result",
          "data": {
            "text/plain": [
              "(83, 7)"
            ]
          },
          "metadata": {
            "tags": []
          },
          "execution_count": 57
        }
      ]
    },
    {
      "cell_type": "code",
      "metadata": {
        "id": "vbtLShPSKIqQ",
        "colab_type": "code",
        "outputId": "65fe3b0d-d62f-4a61-895d-70f559346cea",
        "colab": {
          "base_uri": "https://localhost:8080/",
          "height": 357
        }
      },
      "source": [
        "new_df.head()"
      ],
      "execution_count": 0,
      "outputs": [
        {
          "output_type": "execute_result",
          "data": {
            "text/html": [
              "<div>\n",
              "<style scoped>\n",
              "    .dataframe tbody tr th:only-of-type {\n",
              "        vertical-align: middle;\n",
              "    }\n",
              "\n",
              "    .dataframe tbody tr th {\n",
              "        vertical-align: top;\n",
              "    }\n",
              "\n",
              "    .dataframe thead th {\n",
              "        text-align: right;\n",
              "    }\n",
              "</style>\n",
              "<table border=\"1\" class=\"dataframe\">\n",
              "  <thead>\n",
              "    <tr style=\"text-align: right;\">\n",
              "      <th></th>\n",
              "      <th>products</th>\n",
              "      <th>timestamp</th>\n",
              "      <th>transaction</th>\n",
              "      <th>uid</th>\n",
              "      <th>product</th>\n",
              "      <th>recommended_size</th>\n",
              "      <th>trans_productid</th>\n",
              "    </tr>\n",
              "  </thead>\n",
              "  <tbody>\n",
              "    <tr>\n",
              "      <th>0</th>\n",
              "      <td>[{'quantity': 1, 'size': 'INT S', 'price': '47...</td>\n",
              "      <td>2019-02-01 02:29:41.281</td>\n",
              "      <td>236742962</td>\n",
              "      <td>3528be91-d6a2-4ec6-b26d-076dcc8ee15e</td>\n",
              "      <td>A00F7AA5E23E13GS</td>\n",
              "      <td>[{'size': 'INT S', 'confidence': 4, 'bust': 0,...</td>\n",
              "      <td>['994DBAA2817BC8GS', 'A00F7AA5E23E13GS', '6168...</td>\n",
              "    </tr>\n",
              "    <tr>\n",
              "      <th>1</th>\n",
              "      <td>[{'quantity': 1, 'size': 'Waist x Length W2926...</td>\n",
              "      <td>2019-02-06 19:18:41.887</td>\n",
              "      <td>251917962</td>\n",
              "      <td>0c349735-c293-4731-ae90-451b8a1da885</td>\n",
              "      <td>9C659AA4AED569GS</td>\n",
              "      <td>[{'size': '28', 'confidence': 3, 'bust': 0, 'w...</td>\n",
              "      <td>9C659AA4AED569GS</td>\n",
              "    </tr>\n",
              "    <tr>\n",
              "      <th>2</th>\n",
              "      <td>[{'quantity': 1, 'size': 'INT XL', 'price': '7...</td>\n",
              "      <td>2019-02-11 21:03:28.462</td>\n",
              "      <td>221114862</td>\n",
              "      <td>65e57b99-d3c6-433d-93f0-6550f721260e</td>\n",
              "      <td>625B4AA0F3327BGS</td>\n",
              "      <td>[{'size': 'INT L', 'confidence': 3, 'bust': 2,...</td>\n",
              "      <td>625B4AA0F3327BGS</td>\n",
              "    </tr>\n",
              "    <tr>\n",
              "      <th>3</th>\n",
              "      <td>[{'quantity': 1, 'size': 'INT S', 'price': '79...</td>\n",
              "      <td>2019-02-21 04:54:33.834</td>\n",
              "      <td>244983862</td>\n",
              "      <td>282a5d73-a9f3-41ac-913c-c289586bba0b</td>\n",
              "      <td>1F3CDAA6CE7A94GS</td>\n",
              "      <td>[{'size': 'UK 8', 'confidence': 2, 'bust': 1, ...</td>\n",
              "      <td>['B2957AAC19B6E2GS', '1F3CDAA6CE7A94GS']</td>\n",
              "    </tr>\n",
              "    <tr>\n",
              "      <th>4</th>\n",
              "      <td>[{'quantity': 1, 'size': 'INT M', 'price': '66...</td>\n",
              "      <td>2019-02-06 10:56:03.886</td>\n",
              "      <td>291477962</td>\n",
              "      <td>385d88cf-4c07-4238-afae-2e30e011be46</td>\n",
              "      <td>B0420AA4264AEBGS</td>\n",
              "      <td>[{'size': 'INT M', 'confidence': 4, 'bust': 0,...</td>\n",
              "      <td>['0EF77AAE6D1367GS', '47158AAD1878D9GS', 'B042...</td>\n",
              "    </tr>\n",
              "  </tbody>\n",
              "</table>\n",
              "</div>"
            ],
            "text/plain": [
              "                                            products               timestamp  \\\n",
              "0  [{'quantity': 1, 'size': 'INT S', 'price': '47... 2019-02-01 02:29:41.281   \n",
              "1  [{'quantity': 1, 'size': 'Waist x Length W2926... 2019-02-06 19:18:41.887   \n",
              "2  [{'quantity': 1, 'size': 'INT XL', 'price': '7... 2019-02-11 21:03:28.462   \n",
              "3  [{'quantity': 1, 'size': 'INT S', 'price': '79... 2019-02-21 04:54:33.834   \n",
              "4  [{'quantity': 1, 'size': 'INT M', 'price': '66... 2019-02-06 10:56:03.886   \n",
              "\n",
              "   transaction                                   uid           product  \\\n",
              "0    236742962  3528be91-d6a2-4ec6-b26d-076dcc8ee15e  A00F7AA5E23E13GS   \n",
              "1    251917962  0c349735-c293-4731-ae90-451b8a1da885  9C659AA4AED569GS   \n",
              "2    221114862  65e57b99-d3c6-433d-93f0-6550f721260e  625B4AA0F3327BGS   \n",
              "3    244983862  282a5d73-a9f3-41ac-913c-c289586bba0b  1F3CDAA6CE7A94GS   \n",
              "4    291477962  385d88cf-4c07-4238-afae-2e30e011be46  B0420AA4264AEBGS   \n",
              "\n",
              "                                    recommended_size  \\\n",
              "0  [{'size': 'INT S', 'confidence': 4, 'bust': 0,...   \n",
              "1  [{'size': '28', 'confidence': 3, 'bust': 0, 'w...   \n",
              "2  [{'size': 'INT L', 'confidence': 3, 'bust': 2,...   \n",
              "3  [{'size': 'UK 8', 'confidence': 2, 'bust': 1, ...   \n",
              "4  [{'size': 'INT M', 'confidence': 4, 'bust': 0,...   \n",
              "\n",
              "                                     trans_productid  \n",
              "0  ['994DBAA2817BC8GS', 'A00F7AA5E23E13GS', '6168...  \n",
              "1                                   9C659AA4AED569GS  \n",
              "2                                   625B4AA0F3327BGS  \n",
              "3           ['B2957AAC19B6E2GS', '1F3CDAA6CE7A94GS']  \n",
              "4  ['0EF77AAE6D1367GS', '47158AAD1878D9GS', 'B042...  "
            ]
          },
          "metadata": {
            "tags": []
          },
          "execution_count": 58
        }
      ]
    },
    {
      "cell_type": "code",
      "metadata": {
        "id": "mVUgv29x8v05",
        "colab_type": "code",
        "colab": {}
      },
      "source": [
        "purchased_size = []\n",
        "i = 0\n",
        "import ast\n",
        "for d in new_df.products:\n",
        "  a = ast.literal_eval(d) #converting string(from products column) into dictionary\n",
        "  for x in a:\n",
        "    if (x.get('sku') == new_df['product'][i]):\n",
        "      purchased_size.append(x.get('size'))\n",
        "      i += 1 \n",
        "      break"
      ],
      "execution_count": 0,
      "outputs": []
    },
    {
      "cell_type": "code",
      "metadata": {
        "id": "KL0U0yai08J-",
        "colab_type": "code",
        "outputId": "23eac39e-de7c-4184-afbc-ec3431370221",
        "colab": {
          "base_uri": "https://localhost:8080/",
          "height": 54
        }
      },
      "source": [
        "print(purchased_size)"
      ],
      "execution_count": 0,
      "outputs": [
        {
          "output_type": "stream",
          "text": [
            "['INT M', 'Waist x Length W2926', 'INT XL', 'UK 8', 'INT L', 'INT L', 'INT L', 'US 4', 'UK 12', 'UK 8', 'INT S', 'INT S', 'INT XL', 'INT L', 'INT M', 'INT S', 'INT M', 'INT M', 'INT M', 'INT S', 'INT XL', 'INT XL', 'INT M', 'INT L', 'EU 34', 'INT M', 'INT M', 'INT S', 'INT S', 'INT S', 'INT S', 'INT L', 'INT M', 'INT S', 'INT S', 'EU 36', 'INT XS', 'INT S', 'INT M', 'INT S', 'INT M', 'INT XL', 'INT XL', 'INT L', 'INT L', 'INT L', 'INT L', 'INT XL', 'INT XS', 'INT M', 'INT M', 'INT M', 'INT L', 'INT L', 'INT M', 'INT XS/S', 'INT M', 'INT L', 'INT S', 'INT S', 'INT S', 'EU 36', 'INT XXS', 'AUS 8', 'INT XXS', 'INT S', 'INT M', 'INT M', 'INT S', 'INT M', 'INT M', 'INT XL', 'INT XL', 'INT XL', 'INT XL', 'INT XL', 'INT S', 'EU 38', 'INT M', 'INT M', 'INT XS', 'UK 14', 'EU 38']\n"
          ],
          "name": "stdout"
        }
      ]
    },
    {
      "cell_type": "code",
      "metadata": {
        "id": "LD1lTQh1rpKs",
        "colab_type": "code",
        "outputId": "19ff530b-9fe1-4793-e354-76c51528271c",
        "colab": {
          "base_uri": "https://localhost:8080/",
          "height": 54
        }
      },
      "source": [
        "\n",
        "import ast\n",
        "recommended_size = []\n",
        "for d in new_df.recommended_size:\n",
        "  a = ast.literal_eval(d)\n",
        "  for x in a:\n",
        "    if(x.get('recommended') == True):\n",
        "          recommended_size.append(x.get('size'))\n",
        "\n",
        "print (recommended_size)        "
      ],
      "execution_count": 0,
      "outputs": [
        {
          "output_type": "stream",
          "text": [
            "['INT M', '29', 'INT XL', 'UK 10', 'INT L', 'INT XL', 'INT XL', 'UK 12', 'UK 12', 'UK 8', 'INT XS', 'INT S', 'INT XL', 'INT XL', 'INT M', 'INT S', 'INT S', 'INT S', 'INT M', 'INT S', 'INT L', 'INT XL', 'INT M', 'INT L', 'EU 34', 'INT L', 'INT M', 'INT L', 'INT S', 'INT M', 'INT S', 'INT M', 'INT M', 'INT XS', 'INT XS', 'EU 36', 'INT XS', 'INT S', 'INT M', 'INT L', 'INT M', 'INT XL', 'INT XL', 'INT XL', 'INT XL', 'INT XL', 'INT XL', 'INT XL', 'INT S', 'INT S', 'INT L', 'INT L', 'INT L', 'INT L', 'INT M', 'UK 12', 'INT M', 'INT L', 'INT L', 'INT S', 'INT S', 'EU 36', 'INT XS', 'AU 8', 'INT XS', 'INT XS', 'INT XS', 'INT XS', 'INT S', 'INT M', 'INT M', 'INT XL', 'INT XL', 'INT XL', 'INT XL', 'INT XL', 'INT S', 'EU 38', 'INT M', 'INT S', 'INT XS', 'UK 14', 'EU 38']\n"
          ],
          "name": "stdout"
        }
      ]
    },
    {
      "cell_type": "code",
      "metadata": {
        "id": "QTgbBsCH6FkL",
        "colab_type": "code",
        "colab": {}
      },
      "source": [
        "pix_df = pd.DataFrame(columns=new_df.columns) #Purchased Size = Pixibo Recommended Size (Optional)\n",
        "notpix_df = pd.DataFrame(columns=new_df.columns)#Purchased Size != PixiboRecommended Size (Optional)\n",
        "for i in range(len(recommended_size)):\n",
        "  if(recommended_size[i] in purchased_size[i]):\n",
        "    pix_df = pix_df.append(new_df.loc[i], ignore_index = True)\n",
        "  else:\n",
        "    notpix_df = notpix_df.append(new_df.loc[i], ignore_index = True)\n",
        "  "
      ],
      "execution_count": 0,
      "outputs": []
    },
    {
      "cell_type": "code",
      "metadata": {
        "id": "SXsmb9w9HuS6",
        "colab_type": "code",
        "outputId": "f6fd5065-ba4f-4507-f4b3-88b21e7b702a",
        "colab": {
          "base_uri": "https://localhost:8080/",
          "height": 34
        }
      },
      "source": [
        "pix_df.shape"
      ],
      "execution_count": 0,
      "outputs": [
        {
          "output_type": "execute_result",
          "data": {
            "text/plain": [
              "(50, 7)"
            ]
          },
          "metadata": {
            "tags": []
          },
          "execution_count": 124
        }
      ]
    },
    {
      "cell_type": "code",
      "metadata": {
        "id": "q0dk5NJRJTXV",
        "colab_type": "code",
        "colab": {}
      },
      "source": [
        "!pip install xlsxwriter"
      ],
      "execution_count": 0,
      "outputs": []
    },
    {
      "cell_type": "code",
      "metadata": {
        "id": "U7QdoBz2JHvj",
        "colab_type": "code",
        "colab": {}
      },
      "source": [
        "import xlsxwriter\n",
        "writer = pd.ExcelWriter('pixibo(1B).xlsx',engine='xlsxwriter',options={'strings_to_urls': False})\n",
        "notpix_df.to_excel(writer,'Sheet1')\n",
        "writer.save()"
      ],
      "execution_count": 0,
      "outputs": []
    },
    {
      "cell_type": "code",
      "metadata": {
        "id": "KF0rzwjk05Ly",
        "colab_type": "code",
        "colab": {}
      },
      "source": [
        "notpix_df.shape"
      ],
      "execution_count": 0,
      "outputs": []
    },
    {
      "cell_type": "code",
      "metadata": {
        "id": "_I8STAT7F0OV",
        "colab_type": "code",
        "outputId": "db3d1ecc-5f5f-4bcc-8fa3-b9125f588c8d",
        "colab": {
          "base_uri": "https://localhost:8080/",
          "height": 34
        }
      },
      "source": [
        "#Purchased Size = Pixibo Recommended Size (Optional)\n",
        "#order numbers which are common to both transaction and returns dataframes\n",
        "s = set(pix_df['transaction']).intersection(set(return_df['Order_nr']))\n",
        "print (\"total number of returns \" + \" \"+ str(len(s)))"
      ],
      "execution_count": 0,
      "outputs": [
        {
          "output_type": "stream",
          "text": [
            "total number of returns  5\n"
          ],
          "name": "stdout"
        }
      ]
    },
    {
      "cell_type": "code",
      "metadata": {
        "id": "bMMZHV7UIKRw",
        "colab_type": "code",
        "outputId": "afae5793-6088-4771-b721-e18b97d05c40",
        "colab": {
          "base_uri": "https://localhost:8080/",
          "height": 34
        }
      },
      "source": [
        "#Purchased Size != Pixibo Recommended Size (Optional)\n",
        "#order numbers which are common to both transaction and returns dataframes\n",
        "s = set(notpix_df['transaction']).intersection(set(return_df['Order_nr']))\n",
        "print (\"total number of returns \" + \" \"+ str(len(s)))"
      ],
      "execution_count": 0,
      "outputs": [
        {
          "output_type": "stream",
          "text": [
            "total number of returns  7\n"
          ],
          "name": "stdout"
        }
      ]
    },
    {
      "cell_type": "markdown",
      "metadata": {
        "id": "A1Wh6Q6qHsuJ",
        "colab_type": "text"
      },
      "source": [
        "###Purchased Size = Pixibo Recommended Size (Optional)\n",
        "\n",
        "number of products sold = 50 total returns = 5 size & fit returns rate = 50/5"
      ]
    },
    {
      "cell_type": "markdown",
      "metadata": {
        "id": "uJlZwxciH6Cw",
        "colab_type": "text"
      },
      "source": [
        "###Purchased Size != Pixibo Recommended Size (Optional)\n",
        "number of products sold = 33 total returns = 7 size & fit returns rate = 33/7\n",
        "\n"
      ]
    }
  ]
}